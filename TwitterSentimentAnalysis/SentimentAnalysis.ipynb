{
  "nbformat": 4,
  "nbformat_minor": 0,
  "metadata": {
    "colab": {
      "name": "s3820789.ipynb",
      "provenance": [],
      "collapsed_sections": [
        "05sXjByVL-x7",
        "IIdoXPJlMCht",
        "KATFIJ5PMQUO",
        "Gqfx9gXFYyQB",
        "KjufVNnmY99t",
        "ybV2GR5vAC5m",
        "P0cKaV6bH9F7",
        "3jUp-h7MVlMr",
        "Mi3GQvY9HjVo",
        "VNUJilCDQZX1",
        "z57E16BLkCqa",
        "eD2XDZNeuoh6",
        "W0dHqyKikF-P",
        "TGh53Wtm4JBx",
        "AfZmHfZ9zEb8",
        "jHtwnUyTbzoG"
      ]
    },
    "kernelspec": {
      "name": "python3",
      "display_name": "Python 3"
    },
    "language_info": {
      "name": "python"
    },
    "accelerator": "GPU"
  },
  "cells": [
    {
      "cell_type": "markdown",
      "metadata": {
        "id": "05sXjByVL-x7"
      },
      "source": [
        "# **Determining support for Rumours using NLP & Deep Learning**\n",
        "Social Media is getting popular day by day as it’s able to reach a greater number of people after the easy access to mobile phones and internet. Spread of fake news on these sites are also becoming very prevalent to spread misinformation and promote propaganda. Hence, it’s very important to detect this misinformation. Data Science techniques can be used to detect it. Twitter and Reddit dataset contains tweets, comments, and replies in a data frame that has 4 classes determining the veracity of the rumours. This can help in reducing the impact of the spread of misinformation. To accomplish this task, we must figure out if the comments made about a given post (by other individuals on a given platform) support, deny, query or comment. \n",
        "\n",
        "## Dataset\n",
        "The twitter dataset consists of 6634 rows and 6 columns and reddit dataset contains 2471 rows and 6 columns. \n",
        "\n",
        "1. Type - (Categorical: Source, Reply)\n",
        "2. Msg_ID - Unique id for the message (Numerical)\n",
        "3. Source_Msg_ID - Msg ID of the source (Numerical)\n",
        "4. Text - Tweet (Categorical)\n",
        "5. Topic - Topic of the tweet\n",
        "6. Class (Target Variable) - Sentiment of the reply (Categorical: query, comment, deny, support)\n",
        "\n",
        "## Objective\n",
        "Our aim is to predict the veracity of the response tweets into one of the 4 categories.\n"
      ]
    },
    {
      "cell_type": "code",
      "metadata": {
        "id": "vCvggWm-9wR_",
        "colab": {
          "base_uri": "https://localhost:8080/"
        },
        "outputId": "c652b8f6-3af1-4bf5-8dfa-e9929ae6192b"
      },
      "source": [
        "import zipfile\n",
        "from google.colab import drive\n",
        "\n",
        "drive.mount('/content/drive/')"
      ],
      "execution_count": null,
      "outputs": [
        {
          "output_type": "stream",
          "name": "stdout",
          "text": [
            "Mounted at /content/drive/\n"
          ]
        }
      ]
    },
    {
      "cell_type": "code",
      "metadata": {
        "id": "RZRLRSwnQQ9L",
        "colab": {
          "base_uri": "https://localhost:8080/"
        },
        "outputId": "b6e9dd01-a682-4150-fb8b-88d3a43a9529"
      },
      "source": [
        "! pip install tensorflow-addons"
      ],
      "execution_count": null,
      "outputs": [
        {
          "output_type": "stream",
          "name": "stdout",
          "text": [
            "Collecting tensorflow-addons\n",
            "  Downloading tensorflow_addons-0.14.0-cp37-cp37m-manylinux_2_12_x86_64.manylinux2010_x86_64.whl (1.1 MB)\n",
            "\u001b[?25l\r\u001b[K     |▎                               | 10 kB 23.5 MB/s eta 0:00:01\r\u001b[K     |▋                               | 20 kB 28.6 MB/s eta 0:00:01\r\u001b[K     |▉                               | 30 kB 21.1 MB/s eta 0:00:01\r\u001b[K     |█▏                              | 40 kB 16.5 MB/s eta 0:00:01\r\u001b[K     |█▌                              | 51 kB 9.4 MB/s eta 0:00:01\r\u001b[K     |█▊                              | 61 kB 9.8 MB/s eta 0:00:01\r\u001b[K     |██                              | 71 kB 9.6 MB/s eta 0:00:01\r\u001b[K     |██▍                             | 81 kB 10.6 MB/s eta 0:00:01\r\u001b[K     |██▋                             | 92 kB 8.1 MB/s eta 0:00:01\r\u001b[K     |███                             | 102 kB 8.8 MB/s eta 0:00:01\r\u001b[K     |███▎                            | 112 kB 8.8 MB/s eta 0:00:01\r\u001b[K     |███▌                            | 122 kB 8.8 MB/s eta 0:00:01\r\u001b[K     |███▉                            | 133 kB 8.8 MB/s eta 0:00:01\r\u001b[K     |████▏                           | 143 kB 8.8 MB/s eta 0:00:01\r\u001b[K     |████▍                           | 153 kB 8.8 MB/s eta 0:00:01\r\u001b[K     |████▊                           | 163 kB 8.8 MB/s eta 0:00:01\r\u001b[K     |█████                           | 174 kB 8.8 MB/s eta 0:00:01\r\u001b[K     |█████▎                          | 184 kB 8.8 MB/s eta 0:00:01\r\u001b[K     |█████▋                          | 194 kB 8.8 MB/s eta 0:00:01\r\u001b[K     |██████                          | 204 kB 8.8 MB/s eta 0:00:01\r\u001b[K     |██████▏                         | 215 kB 8.8 MB/s eta 0:00:01\r\u001b[K     |██████▌                         | 225 kB 8.8 MB/s eta 0:00:01\r\u001b[K     |██████▉                         | 235 kB 8.8 MB/s eta 0:00:01\r\u001b[K     |███████                         | 245 kB 8.8 MB/s eta 0:00:01\r\u001b[K     |███████▍                        | 256 kB 8.8 MB/s eta 0:00:01\r\u001b[K     |███████▊                        | 266 kB 8.8 MB/s eta 0:00:01\r\u001b[K     |████████                        | 276 kB 8.8 MB/s eta 0:00:01\r\u001b[K     |████████▎                       | 286 kB 8.8 MB/s eta 0:00:01\r\u001b[K     |████████▋                       | 296 kB 8.8 MB/s eta 0:00:01\r\u001b[K     |████████▉                       | 307 kB 8.8 MB/s eta 0:00:01\r\u001b[K     |█████████▏                      | 317 kB 8.8 MB/s eta 0:00:01\r\u001b[K     |█████████▌                      | 327 kB 8.8 MB/s eta 0:00:01\r\u001b[K     |█████████▊                      | 337 kB 8.8 MB/s eta 0:00:01\r\u001b[K     |██████████                      | 348 kB 8.8 MB/s eta 0:00:01\r\u001b[K     |██████████▍                     | 358 kB 8.8 MB/s eta 0:00:01\r\u001b[K     |██████████▋                     | 368 kB 8.8 MB/s eta 0:00:01\r\u001b[K     |███████████                     | 378 kB 8.8 MB/s eta 0:00:01\r\u001b[K     |███████████▎                    | 389 kB 8.8 MB/s eta 0:00:01\r\u001b[K     |███████████▌                    | 399 kB 8.8 MB/s eta 0:00:01\r\u001b[K     |███████████▉                    | 409 kB 8.8 MB/s eta 0:00:01\r\u001b[K     |████████████▏                   | 419 kB 8.8 MB/s eta 0:00:01\r\u001b[K     |████████████▍                   | 430 kB 8.8 MB/s eta 0:00:01\r\u001b[K     |████████████▊                   | 440 kB 8.8 MB/s eta 0:00:01\r\u001b[K     |█████████████                   | 450 kB 8.8 MB/s eta 0:00:01\r\u001b[K     |█████████████▎                  | 460 kB 8.8 MB/s eta 0:00:01\r\u001b[K     |█████████████▋                  | 471 kB 8.8 MB/s eta 0:00:01\r\u001b[K     |██████████████                  | 481 kB 8.8 MB/s eta 0:00:01\r\u001b[K     |██████████████▏                 | 491 kB 8.8 MB/s eta 0:00:01\r\u001b[K     |██████████████▌                 | 501 kB 8.8 MB/s eta 0:00:01\r\u001b[K     |██████████████▉                 | 512 kB 8.8 MB/s eta 0:00:01\r\u001b[K     |███████████████                 | 522 kB 8.8 MB/s eta 0:00:01\r\u001b[K     |███████████████▍                | 532 kB 8.8 MB/s eta 0:00:01\r\u001b[K     |███████████████▊                | 542 kB 8.8 MB/s eta 0:00:01\r\u001b[K     |████████████████                | 552 kB 8.8 MB/s eta 0:00:01\r\u001b[K     |████████████████▎               | 563 kB 8.8 MB/s eta 0:00:01\r\u001b[K     |████████████████▋               | 573 kB 8.8 MB/s eta 0:00:01\r\u001b[K     |████████████████▉               | 583 kB 8.8 MB/s eta 0:00:01\r\u001b[K     |█████████████████▏              | 593 kB 8.8 MB/s eta 0:00:01\r\u001b[K     |█████████████████▌              | 604 kB 8.8 MB/s eta 0:00:01\r\u001b[K     |█████████████████▊              | 614 kB 8.8 MB/s eta 0:00:01\r\u001b[K     |██████████████████              | 624 kB 8.8 MB/s eta 0:00:01\r\u001b[K     |██████████████████▍             | 634 kB 8.8 MB/s eta 0:00:01\r\u001b[K     |██████████████████▋             | 645 kB 8.8 MB/s eta 0:00:01\r\u001b[K     |███████████████████             | 655 kB 8.8 MB/s eta 0:00:01\r\u001b[K     |███████████████████▎            | 665 kB 8.8 MB/s eta 0:00:01\r\u001b[K     |███████████████████▌            | 675 kB 8.8 MB/s eta 0:00:01\r\u001b[K     |███████████████████▉            | 686 kB 8.8 MB/s eta 0:00:01\r\u001b[K     |████████████████████▏           | 696 kB 8.8 MB/s eta 0:00:01\r\u001b[K     |████████████████████▍           | 706 kB 8.8 MB/s eta 0:00:01\r\u001b[K     |████████████████████▊           | 716 kB 8.8 MB/s eta 0:00:01\r\u001b[K     |█████████████████████           | 727 kB 8.8 MB/s eta 0:00:01\r\u001b[K     |█████████████████████▎          | 737 kB 8.8 MB/s eta 0:00:01\r\u001b[K     |█████████████████████▋          | 747 kB 8.8 MB/s eta 0:00:01\r\u001b[K     |██████████████████████          | 757 kB 8.8 MB/s eta 0:00:01\r\u001b[K     |██████████████████████▏         | 768 kB 8.8 MB/s eta 0:00:01\r\u001b[K     |██████████████████████▌         | 778 kB 8.8 MB/s eta 0:00:01\r\u001b[K     |██████████████████████▉         | 788 kB 8.8 MB/s eta 0:00:01\r\u001b[K     |███████████████████████         | 798 kB 8.8 MB/s eta 0:00:01\r\u001b[K     |███████████████████████▍        | 808 kB 8.8 MB/s eta 0:00:01\r\u001b[K     |███████████████████████▊        | 819 kB 8.8 MB/s eta 0:00:01\r\u001b[K     |████████████████████████        | 829 kB 8.8 MB/s eta 0:00:01\r\u001b[K     |████████████████████████▎       | 839 kB 8.8 MB/s eta 0:00:01\r\u001b[K     |████████████████████████▋       | 849 kB 8.8 MB/s eta 0:00:01\r\u001b[K     |████████████████████████▉       | 860 kB 8.8 MB/s eta 0:00:01\r\u001b[K     |█████████████████████████▏      | 870 kB 8.8 MB/s eta 0:00:01\r\u001b[K     |█████████████████████████▍      | 880 kB 8.8 MB/s eta 0:00:01\r\u001b[K     |█████████████████████████▊      | 890 kB 8.8 MB/s eta 0:00:01\r\u001b[K     |██████████████████████████      | 901 kB 8.8 MB/s eta 0:00:01\r\u001b[K     |██████████████████████████▎     | 911 kB 8.8 MB/s eta 0:00:01\r\u001b[K     |██████████████████████████▋     | 921 kB 8.8 MB/s eta 0:00:01\r\u001b[K     |███████████████████████████     | 931 kB 8.8 MB/s eta 0:00:01\r\u001b[K     |███████████████████████████▏    | 942 kB 8.8 MB/s eta 0:00:01\r\u001b[K     |███████████████████████████▌    | 952 kB 8.8 MB/s eta 0:00:01\r\u001b[K     |███████████████████████████▉    | 962 kB 8.8 MB/s eta 0:00:01\r\u001b[K     |████████████████████████████    | 972 kB 8.8 MB/s eta 0:00:01\r\u001b[K     |████████████████████████████▍   | 983 kB 8.8 MB/s eta 0:00:01\r\u001b[K     |████████████████████████████▊   | 993 kB 8.8 MB/s eta 0:00:01\r\u001b[K     |█████████████████████████████   | 1.0 MB 8.8 MB/s eta 0:00:01\r\u001b[K     |█████████████████████████████▎  | 1.0 MB 8.8 MB/s eta 0:00:01\r\u001b[K     |█████████████████████████████▋  | 1.0 MB 8.8 MB/s eta 0:00:01\r\u001b[K     |█████████████████████████████▉  | 1.0 MB 8.8 MB/s eta 0:00:01\r\u001b[K     |██████████████████████████████▏ | 1.0 MB 8.8 MB/s eta 0:00:01\r\u001b[K     |██████████████████████████████▌ | 1.1 MB 8.8 MB/s eta 0:00:01\r\u001b[K     |██████████████████████████████▊ | 1.1 MB 8.8 MB/s eta 0:00:01\r\u001b[K     |███████████████████████████████ | 1.1 MB 8.8 MB/s eta 0:00:01\r\u001b[K     |███████████████████████████████▍| 1.1 MB 8.8 MB/s eta 0:00:01\r\u001b[K     |███████████████████████████████▋| 1.1 MB 8.8 MB/s eta 0:00:01\r\u001b[K     |████████████████████████████████| 1.1 MB 8.8 MB/s eta 0:00:01\r\u001b[K     |████████████████████████████████| 1.1 MB 8.8 MB/s \n",
            "\u001b[?25hRequirement already satisfied: typeguard>=2.7 in /usr/local/lib/python3.7/dist-packages (from tensorflow-addons) (2.7.1)\n",
            "Installing collected packages: tensorflow-addons\n",
            "Successfully installed tensorflow-addons-0.14.0\n"
          ]
        }
      ]
    },
    {
      "cell_type": "code",
      "metadata": {
        "colab": {
          "base_uri": "https://localhost:8080/"
        },
        "id": "pZYvPvzUh7cJ",
        "outputId": "c6bf98a1-7a0c-49e9-8bf4-b9552a4e290e"
      },
      "source": [
        "!pip install nltk"
      ],
      "execution_count": null,
      "outputs": [
        {
          "output_type": "stream",
          "name": "stdout",
          "text": [
            "Requirement already satisfied: nltk in /usr/local/lib/python3.7/dist-packages (3.2.5)\n",
            "Requirement already satisfied: six in /usr/local/lib/python3.7/dist-packages (from nltk) (1.15.0)\n"
          ]
        }
      ]
    },
    {
      "cell_type": "code",
      "metadata": {
        "id": "SpqqRbQVQN1J"
      },
      "source": [
        "# import zipfile\n",
        "# with zipfile.ZipFile('/content/drive/MyDrive/DeepLearning/ruwanten-rmit-cosc2779-2150-119684695345.zip', 'r') as zip_ref:\n",
        "#     zip_ref.extractall('/content/drive/MyDrive/DeepLearning/')"
      ],
      "execution_count": null,
      "outputs": []
    },
    {
      "cell_type": "markdown",
      "metadata": {
        "id": "IIdoXPJlMCht"
      },
      "source": [
        "# Importing Libraries and Reading files"
      ]
    },
    {
      "cell_type": "code",
      "metadata": {
        "id": "2KxolldmQN4N"
      },
      "source": [
        "import tensorflow as tf\n",
        "AUTOTUNE = tf.data.experimental.AUTOTUNE\n",
        "import numpy as np\n",
        "import pandas as pd\n",
        "import re\n",
        "import seaborn as sns\n",
        "from sklearn.metrics import classification_report\n",
        "import tensorflow_datasets as tfds\n",
        "import pathlib\n",
        "import shutil\n",
        "from sklearn.metrics import confusion_matrix\n",
        "from keras.layers import Input, Embedding, LSTM, Dense,Bidirectional,GRU\n",
        "from keras.models import Model\n",
        "import tempfile\n",
        "from sklearn.model_selection import train_test_split\n",
        "from  IPython import display\n",
        "from matplotlib import pyplot as plt\n",
        "from sklearn.preprocessing import LabelEncoder\n",
        "from sklearn.feature_extraction.text import CountVectorizer\n",
        "from keras.preprocessing.text import Tokenizer\n",
        "from keras.preprocessing.sequence import pad_sequences\n",
        "from keras.models import Sequential\n",
        "from keras.layers import Dense, Embedding, LSTM, SpatialDropout1D\n",
        "from nltk.corpus import stopwords\n",
        "import tensorflow_addons as tfa\n",
        "import nltk\n",
        "from sklearn.utils.class_weight import compute_class_weight"
      ],
      "execution_count": null,
      "outputs": []
    },
    {
      "cell_type": "code",
      "metadata": {
        "id": "X-rId61dQN9x"
      },
      "source": [
        "data = pd.read_csv('/content/drive/MyDrive/DeepLearning/Assignment2/Rumour_data/twitter_dataset.csv')"
      ],
      "execution_count": null,
      "outputs": []
    },
    {
      "cell_type": "code",
      "metadata": {
        "id": "pqLOR4uLv56b"
      },
      "source": [
        "extra_data = pd.read_csv('/content/drive/MyDrive/DeepLearning/Assignment2/Rumour_data/Extra_reddit_dataset.csv')"
      ],
      "execution_count": null,
      "outputs": []
    },
    {
      "cell_type": "code",
      "metadata": {
        "id": "eF9URiFHQOAr",
        "colab": {
          "base_uri": "https://localhost:8080/",
          "height": 204
        },
        "outputId": "2a2f5e69-1a3d-44df-d3fe-486338d5561a"
      },
      "source": [
        "data.head()"
      ],
      "execution_count": null,
      "outputs": [
        {
          "output_type": "execute_result",
          "data": {
            "text/html": [
              "<div>\n",
              "<style scoped>\n",
              "    .dataframe tbody tr th:only-of-type {\n",
              "        vertical-align: middle;\n",
              "    }\n",
              "\n",
              "    .dataframe tbody tr th {\n",
              "        vertical-align: top;\n",
              "    }\n",
              "\n",
              "    .dataframe thead th {\n",
              "        text-align: right;\n",
              "    }\n",
              "</style>\n",
              "<table border=\"1\" class=\"dataframe\">\n",
              "  <thead>\n",
              "    <tr style=\"text-align: right;\">\n",
              "      <th></th>\n",
              "      <th>Type</th>\n",
              "      <th>Msg_ID</th>\n",
              "      <th>Source_Msg_ID</th>\n",
              "      <th>Text</th>\n",
              "      <th>Topic</th>\n",
              "      <th>Class</th>\n",
              "    </tr>\n",
              "  </thead>\n",
              "  <tbody>\n",
              "    <tr>\n",
              "      <th>0</th>\n",
              "      <td>Source</td>\n",
              "      <td>5.810630e+17</td>\n",
              "      <td>-1.000000e+00</td>\n",
              "      <td>#4U9525: Robin names Andreas Lubitz as the cop...</td>\n",
              "      <td>germanwings-crash</td>\n",
              "      <td>-1</td>\n",
              "    </tr>\n",
              "    <tr>\n",
              "      <th>1</th>\n",
              "      <td>Reply</td>\n",
              "      <td>5.810700e+17</td>\n",
              "      <td>5.810630e+17</td>\n",
              "      <td>@thatjohn Have they named the pilot?</td>\n",
              "      <td>germanwings-crash</td>\n",
              "      <td>query</td>\n",
              "    </tr>\n",
              "    <tr>\n",
              "      <th>2</th>\n",
              "      <td>Reply</td>\n",
              "      <td>5.810640e+17</td>\n",
              "      <td>5.810630e+17</td>\n",
              "      <td>@thatjohn @mschenk</td>\n",
              "      <td>germanwings-crash</td>\n",
              "      <td>comment</td>\n",
              "    </tr>\n",
              "    <tr>\n",
              "      <th>3</th>\n",
              "      <td>Source</td>\n",
              "      <td>5.813860e+17</td>\n",
              "      <td>-1.000000e+00</td>\n",
              "      <td>RT @khjelmgaard: German media reporting #Andre...</td>\n",
              "      <td>germanwings-crash</td>\n",
              "      <td>-1</td>\n",
              "    </tr>\n",
              "    <tr>\n",
              "      <th>4</th>\n",
              "      <td>Reply</td>\n",
              "      <td>5.815760e+17</td>\n",
              "      <td>5.813860e+17</td>\n",
              "      <td>@tinkalee_12 @USATODAY @khjelmgaard #F4Phantom...</td>\n",
              "      <td>germanwings-crash</td>\n",
              "      <td>comment</td>\n",
              "    </tr>\n",
              "  </tbody>\n",
              "</table>\n",
              "</div>"
            ],
            "text/plain": [
              "     Type        Msg_ID  ...              Topic    Class\n",
              "0  Source  5.810630e+17  ...  germanwings-crash       -1\n",
              "1   Reply  5.810700e+17  ...  germanwings-crash    query\n",
              "2   Reply  5.810640e+17  ...  germanwings-crash  comment\n",
              "3  Source  5.813860e+17  ...  germanwings-crash       -1\n",
              "4   Reply  5.815760e+17  ...  germanwings-crash  comment\n",
              "\n",
              "[5 rows x 6 columns]"
            ]
          },
          "metadata": {},
          "execution_count": 8
        }
      ]
    },
    {
      "cell_type": "code",
      "metadata": {
        "id": "IXU8Icagxphf",
        "colab": {
          "base_uri": "https://localhost:8080/"
        },
        "outputId": "ff953d36-90fb-4820-e5c0-bd6db3ac9bb5"
      },
      "source": [
        "data.shape"
      ],
      "execution_count": null,
      "outputs": [
        {
          "output_type": "execute_result",
          "data": {
            "text/plain": [
              "(6634, 6)"
            ]
          },
          "metadata": {},
          "execution_count": 9
        }
      ]
    },
    {
      "cell_type": "code",
      "metadata": {
        "id": "t68-LzSDeTUa",
        "colab": {
          "base_uri": "https://localhost:8080/",
          "height": 204
        },
        "outputId": "68cbac93-3c83-4e33-92c6-29e289aabbb8"
      },
      "source": [
        "extra_data.head()"
      ],
      "execution_count": null,
      "outputs": [
        {
          "output_type": "execute_result",
          "data": {
            "text/html": [
              "<div>\n",
              "<style scoped>\n",
              "    .dataframe tbody tr th:only-of-type {\n",
              "        vertical-align: middle;\n",
              "    }\n",
              "\n",
              "    .dataframe tbody tr th {\n",
              "        vertical-align: top;\n",
              "    }\n",
              "\n",
              "    .dataframe thead th {\n",
              "        text-align: right;\n",
              "    }\n",
              "</style>\n",
              "<table border=\"1\" class=\"dataframe\">\n",
              "  <thead>\n",
              "    <tr style=\"text-align: right;\">\n",
              "      <th></th>\n",
              "      <th>Type</th>\n",
              "      <th>Msg_ID</th>\n",
              "      <th>Source_Msg_ID</th>\n",
              "      <th>Text</th>\n",
              "      <th>Topic</th>\n",
              "      <th>Class</th>\n",
              "    </tr>\n",
              "  </thead>\n",
              "  <tbody>\n",
              "    <tr>\n",
              "      <th>0</th>\n",
              "      <td>Source</td>\n",
              "      <td>63uefi</td>\n",
              "      <td>-1</td>\n",
              "      <td>Donald Trump's travel expenses in 10 weeks cos...</td>\n",
              "      <td>None</td>\n",
              "      <td>-1</td>\n",
              "    </tr>\n",
              "    <tr>\n",
              "      <th>1</th>\n",
              "      <td>Reply</td>\n",
              "      <td>dfx7l1a</td>\n",
              "      <td>63uefi</td>\n",
              "      <td>But he was from 2001-2009? I don't get what di...</td>\n",
              "      <td>None</td>\n",
              "      <td>comment</td>\n",
              "    </tr>\n",
              "    <tr>\n",
              "      <th>2</th>\n",
              "      <td>Reply</td>\n",
              "      <td>dfx88qg</td>\n",
              "      <td>63uefi</td>\n",
              "      <td>Cheney resigned as CEO of Halliburton on July ...</td>\n",
              "      <td>None</td>\n",
              "      <td>comment</td>\n",
              "    </tr>\n",
              "    <tr>\n",
              "      <th>3</th>\n",
              "      <td>Reply</td>\n",
              "      <td>dfx3i17</td>\n",
              "      <td>63uefi</td>\n",
              "      <td>[deleted]</td>\n",
              "      <td>None</td>\n",
              "      <td>comment</td>\n",
              "    </tr>\n",
              "    <tr>\n",
              "      <th>4</th>\n",
              "      <td>Reply</td>\n",
              "      <td>dfx4yef</td>\n",
              "      <td>63uefi</td>\n",
              "      <td>That is literally not a source, that is Niamh ...</td>\n",
              "      <td>None</td>\n",
              "      <td>comment</td>\n",
              "    </tr>\n",
              "  </tbody>\n",
              "</table>\n",
              "</div>"
            ],
            "text/plain": [
              "     Type   Msg_ID  ... Topic    Class\n",
              "0  Source   63uefi  ...  None       -1\n",
              "1   Reply  dfx7l1a  ...  None  comment\n",
              "2   Reply  dfx88qg  ...  None  comment\n",
              "3   Reply  dfx3i17  ...  None  comment\n",
              "4   Reply  dfx4yef  ...  None  comment\n",
              "\n",
              "[5 rows x 6 columns]"
            ]
          },
          "metadata": {},
          "execution_count": 10
        }
      ]
    },
    {
      "cell_type": "code",
      "metadata": {
        "id": "hN3qKUOAxrJt",
        "colab": {
          "base_uri": "https://localhost:8080/"
        },
        "outputId": "919cd971-6fac-49ac-dd81-ea981ae2535d"
      },
      "source": [
        "extra_data.shape"
      ],
      "execution_count": null,
      "outputs": [
        {
          "output_type": "execute_result",
          "data": {
            "text/plain": [
              "(2471, 6)"
            ]
          },
          "metadata": {},
          "execution_count": 11
        }
      ]
    },
    {
      "cell_type": "markdown",
      "metadata": {
        "id": "KATFIJ5PMQUO"
      },
      "source": [
        "# EDA"
      ]
    },
    {
      "cell_type": "markdown",
      "metadata": {
        "id": "py6trY8uAlHb"
      },
      "source": [
        "## Barplot\n",
        "Used to check the distribution of classes of the target variable."
      ]
    },
    {
      "cell_type": "code",
      "metadata": {
        "colab": {
          "base_uri": "https://localhost:8080/"
        },
        "id": "EXrJtPFHogL5",
        "outputId": "9448bb0e-ab2d-42ad-f606-814ed6ee59b4"
      },
      "source": [
        "ax = data.Class.value_counts(normalize=False).plot.bar()\n",
        "plt.xlabel('Class')\n",
        "plt.title('Class Count')\n",
        "plt.show()"
      ],
      "execution_count": null,
      "outputs": [
        {
          "output_type": "display_data",
          "data": {
            "image/png": "[encoded data removed]",
            "text/plain": [
              "<Figure size 432x288 with 1 Axes>"
            ]
          },
          "metadata": {
            "needs_background": "light"
          }
        }
      ]
    },
    {
      "cell_type": "code",
      "metadata": {
        "colab": {
          "base_uri": "https://localhost:8080/"
        },
        "id": "jL28tEb6ogjp",
        "outputId": "05b011de-58c3-44ff-a35f-cd64bc2d4a77"
      },
      "source": [
        "ax = extra_data.Class.value_counts(normalize=False).plot.bar()\n",
        "plt.xlabel('Class')\n",
        "plt.title('Class Count')\n",
        "plt.show()"
      ],
      "execution_count": null,
      "outputs": [
        {
          "output_type": "display_data",
          "data": {
            "image/png": "[encoded data removed]",
            "text/plain": [
              "<Figure size 432x288 with 1 Axes>"
            ]
          },
          "metadata": {
            "needs_background": "light"
          }
        }
      ]
    },
    {
      "cell_type": "markdown",
      "metadata": {
        "id": "jrbxS42nA6Nc"
      },
      "source": [
        "### Observation\n",
        "- There is a very huge class imbalance in the dataset. Target variable with ‘comment’ type has approx. 9 times more observations than the second most frequent class i.e., ‘support’. \n",
        "- The number of observations for the minority classes i.e., support, deny and query (which are more contributing in assessing veracity) are very less to obtain very good results from training."
      ]
    },
    {
      "cell_type": "markdown",
      "metadata": {
        "id": "GlFLuM6yA087"
      },
      "source": [
        "# Data Pre-Processing & Transformation\n",
        "- Both the datasets have been merged to have more data to train on. \n",
        "- Value_Counts() function was used on the text column to check if there are any duplicates and all the duplicates have been removed while making sure that no ‘Source’ message gets deleted.\n",
        "- All the rows with ‘deleted’ and ‘removed’ texts have been dropped.\n",
        "- There were some texts which were classified multiple labels. They were deleted because they might diminish the performance of the model as model wouldn’t able to recognize which one is actually right.\n",
        "- All the words were lower cased so that capital letter words and small letter words aren’t considered different.\n",
        "- All the website links were deleted because it doesn’t add any value to the predictions. \n",
        "- All the special characters like smileys, question marks, full stops, colon, etc. and digits have been removed as they don’t add any meaning to a sentence.\n",
        "- All the characters with the length of 1 was deleted because there are no adjectives in one letter that can help us distinguishing different sentences.\n",
        "- All the rows with empty texts have been deleted."
      ]
    },
    {
      "cell_type": "code",
      "metadata": {
        "id": "smDognjueTZ5"
      },
      "source": [
        "# merging both the datasets\n",
        "merged_data = pd.concat([data, extra_data],ignore_index=True)"
      ],
      "execution_count": null,
      "outputs": []
    },
    {
      "cell_type": "code",
      "metadata": {
        "id": "jXxbSiD0eTfV",
        "colab": {
          "base_uri": "https://localhost:8080/"
        },
        "outputId": "aab69872-e67b-42d2-be11-42a07edf3594"
      },
      "source": [
        "merged_data.shape"
      ],
      "execution_count": null,
      "outputs": [
        {
          "output_type": "execute_result",
          "data": {
            "text/plain": [
              "(9105, 6)"
            ]
          },
          "metadata": {},
          "execution_count": 16
        }
      ]
    },
    {
      "cell_type": "code",
      "metadata": {
        "colab": {
          "base_uri": "https://localhost:8080/"
        },
        "id": "pJblk-4ZLuXD",
        "outputId": "7c900bec-c9a4-49fb-e768-d71157b339fd"
      },
      "source": [
        "# checking if there are duplicate rows in Text column\n",
        "merged_data['Text'].value_counts()"
      ],
      "execution_count": null,
      "outputs": [
        {
          "output_type": "execute_result",
          "data": {
            "text/plain": [
              "[deleted]                                                                                                                                                              119\n",
              "Yes, because releasing the actual cost broken down would be a terrible political move for Trump. Why would he just randomly tell everyone how much the trips cost?      10\n",
              "[removed]                                                                                                                                                               10\n",
              "Some overhyped actor, probably xD                                                                                                                                       10\n",
              "Batman, you don't provide a quotation in which the author refutes Blackmore.  Yes, she says the events can be duplicated other ways **but not the sequence.**           10\n",
              "                                                                                                                                                                      ... \n",
              "@cldaymon @intelwire @ShirazMaher Previous connections about plot to freed a terrorist involved in 1995 Paris attack. Otherwise not yet.                                 1\n",
              "@harryjohal1982 Yes, and it would seem the terrorists are positively counting on that.   @NickWaite7 @cnni                                                               1\n",
              "“@Cameron_Gray: #RIPNathanCirillo\\n: Soldier killed at war memorial identified as Cpl. Nathan Cirillo #OttawaShooting http://t.co/QBkduHjIbe”                            1\n",
              "@brofromanother @LiveNationON @masseyhall WHAT THE HELL EVEN JUST HAPPENED TODAY                                                                                         1\n",
              "@staronline A sportswoman INDEED, thank God she survived the shooting :') #run #escape #sydneysiege                                                                      1\n",
              "Name: Text, Length: 7674, dtype: int64"
            ]
          },
          "metadata": {},
          "execution_count": 17
        }
      ]
    },
    {
      "cell_type": "code",
      "metadata": {
        "id": "HfxwqyDOLva_"
      },
      "source": [
        "# deleting rows with deleted or removed texts\n",
        "merged_data = merged_data[merged_data.Text != '[deleted]']\n",
        "merged_data = merged_data[merged_data.Text != '[removed]']"
      ],
      "execution_count": null,
      "outputs": []
    },
    {
      "cell_type": "code",
      "metadata": {
        "colab": {
          "base_uri": "https://localhost:8080/"
        },
        "id": "0fL2HO9yM5cY",
        "outputId": "f709dbb7-1944-4b75-da32-9c2db17a6334"
      },
      "source": [
        "# dowloading stopwords from nltk\n",
        "nltk.download('stopwords')\n",
        "stop = stopwords.words('english')\n",
        "stop.remove('not')\n",
        "stop.remove('no')\n",
        "for word in stop:\n",
        "  if(\"n'\" in word):\n",
        "    stop.remove(word)"
      ],
      "execution_count": null,
      "outputs": [
        {
          "output_type": "stream",
          "name": "stdout",
          "text": [
            "[nltk_data] Downloading package stopwords to /root/nltk_data...\n",
            "[nltk_data]   Unzipping corpora/stopwords.zip.\n"
          ]
        }
      ]
    },
    {
      "cell_type": "code",
      "metadata": {
        "id": "tqab8ChXLAlt"
      },
      "source": [
        "import string\n",
        "# converting everything to lower\n",
        "merged_data['Text'] = merged_data['Text'].apply(lambda x: x.lower())\n",
        "# removing usernames starting from @\n",
        "merged_data['Text'] = merged_data['Text'].apply((lambda x: re.sub('(@[a-z]+)','',x)))\n",
        "# removing links\n",
        "merged_data['Text'] = merged_data['Text'].apply((lambda x: re.sub('(https?:\\/\\/.*?)(?:\\s|$)','',x)))\n",
        "# removing everything other than alphabets and spaces\n",
        "merged_data['Text'] = merged_data['Text'].apply((lambda x: re.sub('[^a-zA-Z\\s]','',x)))\n",
        "# removing stopwords\n",
        "merged_data['Text'] = merged_data['Text'].apply(lambda words: ' '.join(word.lower() for word in words.split() if word not in stop))\n",
        "# removing single characters\n",
        "merged_data['Text'] = merged_data['Text'].apply(lambda words: ' '.join(word.lower() for word in words.split() if len(word) > 1))"
      ],
      "execution_count": null,
      "outputs": []
    },
    {
      "cell_type": "code",
      "metadata": {
        "colab": {
          "base_uri": "https://localhost:8080/"
        },
        "id": "-VtwlW6vIp1b",
        "outputId": "74595bb6-a09b-4c1d-d40e-77570f61c962"
      },
      "source": [
        "merged_data['Text'].value_counts()"
      ],
      "execution_count": null,
      "outputs": [
        {
          "output_type": "execute_result",
          "data": {
            "text/plain": [
              "                                                                                                       209\n",
              "thanks                                                                                                  12\n",
              "several hostages freed jewish supermarket paris photo thomas samson afp                                 12\n",
              "gt year olds join armed forces allow vote year olds cant deployed warzone no                            10\n",
              "batman dont provide quotation author refutes blackmore yes says events duplicated ways not sequence     10\n",
              "                                                                                                      ... \n",
              "think plan along get across finish line others governing                                                 1\n",
              "reported hostage takers stated devices planted around cbd precaution                                     1\n",
              "correct stealing no good sure jail sentence fine wouldve justified not death sentence                    1\n",
              "mam get dm mams contact number telephonic reaction news would really appreciate                          1\n",
              "hysterical lately thank laughs                                                                           1\n",
              "Name: Text, Length: 7164, dtype: int64"
            ]
          },
          "metadata": {},
          "execution_count": 21
        }
      ]
    },
    {
      "cell_type": "code",
      "metadata": {
        "colab": {
          "base_uri": "https://localhost:8080/"
        },
        "id": "J9z6NGbnLmPS",
        "outputId": "8529aaa3-17df-4b5f-a657-be10a1554e56"
      },
      "source": [
        "# checking texts with just empty string\n",
        "merged_data[merged_data['Text'] == ''].index"
      ],
      "execution_count": null,
      "outputs": [
        {
          "output_type": "execute_result",
          "data": {
            "text/plain": [
              "Int64Index([   2,  361,  362,  366,  367,  473,  505,  522,  540,  554,\n",
              "            ...\n",
              "            7510, 7558, 7587, 7735, 8289, 8302, 8316, 8325, 9001, 9020],\n",
              "           dtype='int64', length=209)"
            ]
          },
          "metadata": {},
          "execution_count": 22
        }
      ]
    },
    {
      "cell_type": "code",
      "metadata": {
        "id": "Uh7VyUNvMbUC"
      },
      "source": [
        "# fill NAN inplace of empty strings\n",
        "merged_data['Text'].replace('', np.nan, inplace=True)"
      ],
      "execution_count": null,
      "outputs": []
    },
    {
      "cell_type": "code",
      "metadata": {
        "colab": {
          "base_uri": "https://localhost:8080/"
        },
        "id": "4o4CD7K8L6DM",
        "outputId": "cec344b0-26d5-48f4-a087-63d940f7dc3a"
      },
      "source": [
        "merged_data.isnull().values.sum()"
      ],
      "execution_count": null,
      "outputs": [
        {
          "output_type": "execute_result",
          "data": {
            "text/plain": [
              "209"
            ]
          },
          "metadata": {},
          "execution_count": 24
        }
      ]
    },
    {
      "cell_type": "code",
      "metadata": {
        "id": "DzGR7zuOL8Zu"
      },
      "source": [
        "# dropping rows with NAN values\n",
        "merged_data = merged_data.dropna()"
      ],
      "execution_count": null,
      "outputs": []
    },
    {
      "cell_type": "code",
      "metadata": {
        "colab": {
          "base_uri": "https://localhost:8080/"
        },
        "id": "jqrhbO9ObIXM",
        "outputId": "af1824ee-dc04-4707-90d3-f17d5cfd8b06"
      },
      "source": [
        "merged_data.shape"
      ],
      "execution_count": null,
      "outputs": [
        {
          "output_type": "execute_result",
          "data": {
            "text/plain": [
              "(8767, 6)"
            ]
          },
          "metadata": {},
          "execution_count": 26
        }
      ]
    },
    {
      "cell_type": "code",
      "metadata": {
        "id": "aAvWfcj5PL4l"
      },
      "source": [
        "# checking for duplicates in Text column while keeping the first occurrence\n",
        "duplicateRowsDF = merged_data[merged_data.duplicated('Text', keep='first')] "
      ],
      "execution_count": null,
      "outputs": []
    },
    {
      "cell_type": "code",
      "metadata": {
        "id": "Z1bOi08rjHMq"
      },
      "source": [
        "duplicateRowsDF"
      ],
      "execution_count": null,
      "outputs": []
    },
    {
      "cell_type": "code",
      "metadata": {
        "id": "gNbKk5HJFxWO"
      },
      "source": [
        "# duplicateRowsDF.to_excel('/content/drive/MyDrive/DeepLearning/Assignment2/Rumour_data/duplicateRowsDF.xlsx', sheet_name = \"NewSheet1\")"
      ],
      "execution_count": null,
      "outputs": []
    },
    {
      "cell_type": "code",
      "metadata": {
        "id": "Hj-0ai6PjYnc"
      },
      "source": [
        "# filtering out duplicates other than Source type\n",
        "duplicateRowsDF = duplicateRowsDF[duplicateRowsDF['Type'] != \"Source\"]"
      ],
      "execution_count": null,
      "outputs": []
    },
    {
      "cell_type": "code",
      "metadata": {
        "id": "xHwRPQTMblxa"
      },
      "source": [
        "# removing duplicates\n",
        "merged_data= merged_data[merged_data.apply(lambda x: x.values.tolist() not in duplicateRowsDF.values.tolist(), axis=1)]"
      ],
      "execution_count": null,
      "outputs": []
    },
    {
      "cell_type": "code",
      "metadata": {
        "id": "f7BHQfEUOhB8"
      },
      "source": [
        "merged_data = merged_data.reset_index(drop=True)"
      ],
      "execution_count": null,
      "outputs": []
    },
    {
      "cell_type": "code",
      "metadata": {
        "id": "YAS50sk-kabI"
      },
      "source": [
        "merged_data"
      ],
      "execution_count": null,
      "outputs": []
    },
    {
      "cell_type": "code",
      "metadata": {
        "id": "NZLUBAH0OXhS"
      },
      "source": [
        "# merged_data.to_excel('/content/drive/MyDrive/DeepLearning/Assignment2/Rumour_data/merged.xlsx', sheet_name = \"NewSheet1\")"
      ],
      "execution_count": null,
      "outputs": []
    },
    {
      "cell_type": "code",
      "metadata": {
        "id": "VnWSr5VnpR2z"
      },
      "source": [
        "# checking for sources which only have replies belonging to 'comment' type\n",
        "\n",
        "valid_source = []\n",
        "total_source = []\n",
        "sourceId = 0\n",
        "for index, row in merged_data.iterrows():\n",
        "  if (row['Type'] == 'Source'):\n",
        "    sourceId = row['Msg_ID']\n",
        "    total_source.append(sourceId)\n",
        "    text = row['Text']\n",
        "  if (sourceId == row['Source_Msg_ID']):\n",
        "    if (row['Class'] == 'deny' or row['Class'] == 'query' or row['Class'] == 'support'):\n",
        "      if (sourceId not in valid_source):\n",
        "        valid_source.append(sourceId)"
      ],
      "execution_count": null,
      "outputs": []
    },
    {
      "cell_type": "code",
      "metadata": {
        "id": "tlQZiIFn6QxC"
      },
      "source": [
        "# checking for texts belonging to sources which only have replies belonging to 'comment' type\n",
        "\n",
        "invalid_text = []\n",
        "for index, row in merged_data.iterrows():\n",
        "  if (row['Type'] == \"Source\"):\n",
        "    sourceId = row['Msg_ID']\n",
        "  if (sourceId == row['Source_Msg_ID']):\n",
        "    if (row['Class'] == 'comment'):\n",
        "      if (sourceId not in valid_source):\n",
        "        text = row['Text']\n",
        "        invalid_text.append(text)\n",
        "\n",
        " "
      ],
      "execution_count": null,
      "outputs": []
    },
    {
      "cell_type": "code",
      "metadata": {
        "colab": {
          "base_uri": "https://localhost:8080/"
        },
        "id": "C7p95noB8lSB",
        "outputId": "5a002583-db5f-4e51-db9b-ac89f9ee4383"
      },
      "source": [
        "# total number of sources\n",
        "len(total_source)"
      ],
      "execution_count": null,
      "outputs": [
        {
          "output_type": "execute_result",
          "data": {
            "text/plain": [
              "421"
            ]
          },
          "metadata": {},
          "execution_count": 37
        }
      ]
    },
    {
      "cell_type": "code",
      "metadata": {
        "colab": {
          "base_uri": "https://localhost:8080/"
        },
        "id": "GHamUDQP8qRX",
        "outputId": "6d3f9274-be4e-4180-88b5-8704483bc5ba"
      },
      "source": [
        "# total number of sources which has query, support, deny along with comment class\n",
        "len(valid_source)"
      ],
      "execution_count": null,
      "outputs": [
        {
          "output_type": "execute_result",
          "data": {
            "text/plain": [
              "318"
            ]
          },
          "metadata": {},
          "execution_count": 38
        }
      ]
    },
    {
      "cell_type": "code",
      "metadata": {
        "colab": {
          "base_uri": "https://localhost:8080/"
        },
        "id": "LX4VGapurkJH",
        "outputId": "380864f7-a17a-4aca-8c30-ceec40a6a23b"
      },
      "source": [
        "len(invalid_text)"
      ],
      "execution_count": null,
      "outputs": [
        {
          "output_type": "execute_result",
          "data": {
            "text/plain": [
              "363"
            ]
          },
          "metadata": {},
          "execution_count": 39
        }
      ]
    },
    {
      "cell_type": "code",
      "metadata": {
        "id": "LW5fnYoPxunx"
      },
      "source": [
        "# adding source to a list and map it to its replies\n",
        "source = []\n",
        "text_combined = []\n",
        "for index, row in merged_data.iterrows():\n",
        "  if (row['Type'] == \"Source\"):\n",
        "    sId = row['Msg_ID']\n",
        "    source_text = row['Text']\n",
        "  if (sId == row['Source_Msg_ID']):\n",
        "    source.append(source_text)"
      ],
      "execution_count": null,
      "outputs": []
    },
    {
      "cell_type": "code",
      "metadata": {
        "colab": {
          "base_uri": "https://localhost:8080/"
        },
        "id": "aQVUsMvN_4YS",
        "outputId": "38b4b02f-f61a-40fc-b18f-05b60300471d"
      },
      "source": [
        "len(source)"
      ],
      "execution_count": null,
      "outputs": [
        {
          "output_type": "execute_result",
          "data": {
            "text/plain": [
              "6263"
            ]
          },
          "metadata": {},
          "execution_count": 41
        }
      ]
    },
    {
      "cell_type": "code",
      "metadata": {
        "id": "k_epvavsxosk"
      },
      "source": [
        "# removing Source rows\n",
        "final_data = merged_data.drop(merged_data.loc[merged_data['Class']=='-1'].index)\n",
        "final_data = final_data.reset_index(drop=True)"
      ],
      "execution_count": null,
      "outputs": []
    },
    {
      "cell_type": "code",
      "metadata": {
        "id": "kG8_ghgBxyvo"
      },
      "source": [
        "# adding source column and mapping it with its text\n",
        "final_data['Source'] = source"
      ],
      "execution_count": null,
      "outputs": []
    },
    {
      "cell_type": "code",
      "metadata": {
        "id": "Fuezu1iKTvYM"
      },
      "source": [
        "final_data.head()"
      ],
      "execution_count": null,
      "outputs": []
    },
    {
      "cell_type": "code",
      "metadata": {
        "colab": {
          "base_uri": "https://localhost:8080/"
        },
        "id": "UY4He3CKVQ1s",
        "outputId": "0baf220e-3993-4550-c908-ed4df743ace6"
      },
      "source": [
        "final_data.shape"
      ],
      "execution_count": null,
      "outputs": [
        {
          "output_type": "execute_result",
          "data": {
            "text/plain": [
              "(6263, 7)"
            ]
          },
          "metadata": {},
          "execution_count": 45
        }
      ]
    },
    {
      "cell_type": "code",
      "metadata": {
        "id": "QX2zqirX9ekr"
      },
      "source": [
        "final_df = final_data"
      ],
      "execution_count": null,
      "outputs": []
    },
    {
      "cell_type": "code",
      "metadata": {
        "id": "f7b8iVaovvFe"
      },
      "source": [
        "# final_df = final_data.drop(final_data[final_data.Text.isin(invalid_text)].index.tolist())\n",
        "# final_df = final_df.reset_index(drop=True)"
      ],
      "execution_count": null,
      "outputs": []
    },
    {
      "cell_type": "code",
      "metadata": {
        "colab": {
          "base_uri": "https://localhost:8080/"
        },
        "id": "0n0E5572wYsa",
        "outputId": "651919fc-0338-4ef9-d20a-61284b11d080"
      },
      "source": [
        "final_df.shape"
      ],
      "execution_count": null,
      "outputs": [
        {
          "output_type": "execute_result",
          "data": {
            "text/plain": [
              "(6263, 7)"
            ]
          },
          "metadata": {},
          "execution_count": 48
        }
      ]
    },
    {
      "cell_type": "code",
      "metadata": {
        "id": "Oqz26QAy9_Jb"
      },
      "source": [
        "# encoding class variable\n",
        "encoder = LabelEncoder()\n",
        "final_df.insert(2,'Class_Encoded',encoder.fit_transform(final_df['Class']))"
      ],
      "execution_count": null,
      "outputs": []
    },
    {
      "cell_type": "code",
      "metadata": {
        "colab": {
          "base_uri": "https://localhost:8080/"
        },
        "id": "VUyJdwJQc5jm",
        "outputId": "d512ad96-05ea-4939-fc88-589121816a13"
      },
      "source": [
        "final_df.head()"
      ],
      "execution_count": null,
      "outputs": [
        {
          "output_type": "execute_result",
          "data": {
            "text/html": [
              "<div>\n",
              "<style scoped>\n",
              "    .dataframe tbody tr th:only-of-type {\n",
              "        vertical-align: middle;\n",
              "    }\n",
              "\n",
              "    .dataframe tbody tr th {\n",
              "        vertical-align: top;\n",
              "    }\n",
              "\n",
              "    .dataframe thead th {\n",
              "        text-align: right;\n",
              "    }\n",
              "</style>\n",
              "<table border=\"1\" class=\"dataframe\">\n",
              "  <thead>\n",
              "    <tr style=\"text-align: right;\">\n",
              "      <th></th>\n",
              "      <th>Type</th>\n",
              "      <th>Msg_ID</th>\n",
              "      <th>Class_Encoded</th>\n",
              "      <th>Source_Msg_ID</th>\n",
              "      <th>Text</th>\n",
              "      <th>Topic</th>\n",
              "      <th>Class</th>\n",
              "      <th>Source</th>\n",
              "    </tr>\n",
              "  </thead>\n",
              "  <tbody>\n",
              "    <tr>\n",
              "      <th>0</th>\n",
              "      <td>Reply</td>\n",
              "      <td>5.8107e+17</td>\n",
              "      <td>2</td>\n",
              "      <td>5.81063e+17</td>\n",
              "      <td>named pilot</td>\n",
              "      <td>germanwings-crash</td>\n",
              "      <td>query</td>\n",
              "      <td>robin names andreas lubitz copilot flight deck...</td>\n",
              "    </tr>\n",
              "    <tr>\n",
              "      <th>1</th>\n",
              "      <td>Reply</td>\n",
              "      <td>5.81576e+17</td>\n",
              "      <td>0</td>\n",
              "      <td>5.81386e+17</td>\n",
              "      <td>fphantom crash mph hit concretewall dred</td>\n",
              "      <td>germanwings-crash</td>\n",
              "      <td>comment</td>\n",
              "      <td>rt german media reporting andreaslubitz seriou...</td>\n",
              "    </tr>\n",
              "    <tr>\n",
              "      <th>2</th>\n",
              "      <td>Reply</td>\n",
              "      <td>5.82048e+17</td>\n",
              "      <td>0</td>\n",
              "      <td>5.81386e+17</td>\n",
              "      <td>ers link prove intentionally set kill</td>\n",
              "      <td>germanwings-crash</td>\n",
              "      <td>comment</td>\n",
              "      <td>rt german media reporting andreaslubitz seriou...</td>\n",
              "    </tr>\n",
              "    <tr>\n",
              "      <th>3</th>\n",
              "      <td>Reply</td>\n",
              "      <td>5.82206e+17</td>\n",
              "      <td>0</td>\n",
              "      <td>5.81386e+17</td>\n",
              "      <td>sure germanwings copilot andreaslubitz newmoti...</td>\n",
              "      <td>germanwings-crash</td>\n",
              "      <td>comment</td>\n",
              "      <td>rt german media reporting andreaslubitz seriou...</td>\n",
              "    </tr>\n",
              "    <tr>\n",
              "      <th>4</th>\n",
              "      <td>Reply</td>\n",
              "      <td>5.81573e+17</td>\n",
              "      <td>0</td>\n",
              "      <td>5.81386e+17</td>\n",
              "      <td>andreaslubitz germanwings dred splitup girlfri...</td>\n",
              "      <td>germanwings-crash</td>\n",
              "      <td>comment</td>\n",
              "      <td>rt german media reporting andreaslubitz seriou...</td>\n",
              "    </tr>\n",
              "  </tbody>\n",
              "</table>\n",
              "</div>"
            ],
            "text/plain": [
              "    Type  ...                                             Source\n",
              "0  Reply  ...  robin names andreas lubitz copilot flight deck...\n",
              "1  Reply  ...  rt german media reporting andreaslubitz seriou...\n",
              "2  Reply  ...  rt german media reporting andreaslubitz seriou...\n",
              "3  Reply  ...  rt german media reporting andreaslubitz seriou...\n",
              "4  Reply  ...  rt german media reporting andreaslubitz seriou...\n",
              "\n",
              "[5 rows x 8 columns]"
            ]
          },
          "metadata": {},
          "execution_count": 50
        }
      ]
    },
    {
      "cell_type": "code",
      "metadata": {
        "colab": {
          "base_uri": "https://localhost:8080/"
        },
        "id": "C7jGxoGZ8tlY",
        "outputId": "5fe9cea5-c85e-4d18-e466-0b06a857daa3"
      },
      "source": [
        "final_df['Class'].value_counts()"
      ],
      "execution_count": null,
      "outputs": [
        {
          "output_type": "execute_result",
          "data": {
            "text/plain": [
              "comment    4550\n",
              "support     675\n",
              "query       520\n",
              "deny        518\n",
              "Name: Class, dtype: int64"
            ]
          },
          "metadata": {},
          "execution_count": 51
        }
      ]
    },
    {
      "cell_type": "code",
      "metadata": {
        "colab": {
          "base_uri": "https://localhost:8080/"
        },
        "id": "R_WB2II28zZr",
        "outputId": "22fa8f1b-ed89-4b9e-a0b8-aa6905347892"
      },
      "source": [
        "final_data['Class'].value_counts()"
      ],
      "execution_count": null,
      "outputs": [
        {
          "output_type": "execute_result",
          "data": {
            "text/plain": [
              "comment    4550\n",
              "support     675\n",
              "query       520\n",
              "deny        518\n",
              "Name: Class, dtype: int64"
            ]
          },
          "metadata": {},
          "execution_count": 52
        }
      ]
    },
    {
      "cell_type": "code",
      "metadata": {
        "colab": {
          "base_uri": "https://localhost:8080/"
        },
        "id": "vlZr3urkoeTA",
        "outputId": "514e0116-4a0d-4840-f464-6252f1f0dbaa"
      },
      "source": [
        "# Bar plot for checking frequency of each class\n",
        "plt.figure(figsize=(8,5))\n",
        "ax = final_df.Class.value_counts(normalize=False).plot.bar()\n",
        "plt.xlabel('Class')\n",
        "plt.title('Class Count')\n",
        "plt.show()"
      ],
      "execution_count": null,
      "outputs": [
        {
          "output_type": "display_data",
          "data": {
            "image/png": "[encoded data removed]",
            "text/plain": [
              "<Figure size 576x360 with 1 Axes>"
            ]
          },
          "metadata": {
            "needs_background": "light"
          }
        }
      ]
    },
    {
      "cell_type": "code",
      "metadata": {
        "id": "xqrnAnmQ2LyX"
      },
      "source": [
        "# final_df.to_excel('/content/drive/MyDrive/DeepLearning/Assignment2/Rumour_data/preprocessed.xlsx', sheet_name = \"NewSheet1\")"
      ],
      "execution_count": null,
      "outputs": []
    },
    {
      "cell_type": "markdown",
      "metadata": {
        "id": "Gqfx9gXFYyQB"
      },
      "source": [
        "# Learning Curve Plot for Performance Visualization"
      ]
    },
    {
      "cell_type": "code",
      "metadata": {
        "id": "TcRjEqmzY3It"
      },
      "source": [
        "from itertools import cycle\n",
        "def plotter(history_hold, metric = 'binary_crossentropy', ylim=[0.0, 1.0]):\n",
        "  cycol = cycle('bgrcmk')\n",
        "  plt.figure(figsize=(12,8))\n",
        "  for name, item in history_hold.items():\n",
        "    y_train = item.history[metric]\n",
        "    y_val = item.history['val_' + metric]\n",
        "    x_train = np.arange(0,len(y_val))\n",
        "\n",
        "    c=next(cycol)\n",
        "\n",
        "    plt.plot(x_train, y_train, c+'-', label=name+'_train')\n",
        "    plt.plot(x_train, y_val, c+'--', label=name+'_val')\n",
        "\n",
        "  plt.legend()\n",
        "  plt.xlim([1, max(plt.xlim())])\n",
        "  plt.ylim(ylim)\n",
        "  plt.xlabel('Epoch')\n",
        "  plt.ylabel(metric)\n",
        "  plt.grid(True)"
      ],
      "execution_count": null,
      "outputs": []
    },
    {
      "cell_type": "markdown",
      "metadata": {
        "id": "KjufVNnmY99t"
      },
      "source": [
        "# Early Stopping"
      ]
    },
    {
      "cell_type": "code",
      "metadata": {
        "id": "Y6kP1RTHY3LM"
      },
      "source": [
        "# early stopping to prevent overfitting\n",
        "early_stopping = tf.keras.callbacks.EarlyStopping(\n",
        "    monitor='val_f1_score', \n",
        "    verbose=1,\n",
        "    patience=10,\n",
        "    mode='max',\n",
        "    restore_best_weights=True)"
      ],
      "execution_count": null,
      "outputs": []
    },
    {
      "cell_type": "markdown",
      "metadata": {
        "id": "ybV2GR5vAC5m"
      },
      "source": [
        "# Generating task vocabulary \n",
        "- All the rows of ‘Source’ and ‘Reply’ have been tokenized and converted into sequences using the same Tokenizer() object so that we have common vocabulary for both the columns.\n",
        "- Vocabulary size of 11024 was obtained.\n",
        "- The padding of 55 has been done to each of the text row after looking at the boxplot of length of the sentences.\n",
        "- One hot Encoding of the target variable has been done since the model accepts that."
      ]
    },
    {
      "cell_type": "code",
      "metadata": {
        "id": "Wxhddw61_kot"
      },
      "source": [
        "# tokenizing and generating sequence\n",
        "tokenizer = Tokenizer()\n",
        "tokenizer.fit_on_texts(final_df['Source'].values)\n",
        "X1 = tokenizer.texts_to_sequences(final_df['Source'].values)\n",
        "tokenizer.fit_on_texts(final_df['Text'].values)\n",
        "X2 = tokenizer.texts_to_sequences(final_df['Text'].values)"
      ],
      "execution_count": null,
      "outputs": []
    },
    {
      "cell_type": "code",
      "metadata": {
        "colab": {
          "base_uri": "https://localhost:8080/"
        },
        "id": "-3zFmbZ1YOgK",
        "outputId": "39d0e720-a4fe-4a48-ae73-714ffae855c2"
      },
      "source": [
        "word_index = tokenizer.word_index\n",
        "print(\"unique tokens - \"+str(len(word_index)))\n",
        "vocab_size = len(tokenizer.word_index) + 1\n",
        "print('vocab_size - '+str(vocab_size))"
      ],
      "execution_count": null,
      "outputs": [
        {
          "output_type": "stream",
          "name": "stdout",
          "text": [
            "unique tokens - 11023\n",
            "vocab_size - 11024\n"
          ]
        }
      ]
    },
    {
      "cell_type": "code",
      "metadata": {
        "id": "3hfqMUM4EqRn"
      },
      "source": [
        "sent_length = []\n",
        "for row in X2:\n",
        "  sent_length.append(len(row))"
      ],
      "execution_count": null,
      "outputs": []
    },
    {
      "cell_type": "code",
      "metadata": {
        "colab": {
          "base_uri": "https://localhost:8080/",
          "height": 265
        },
        "id": "UPSNojmtFSDh",
        "outputId": "036d3f2a-77ec-4d26-e7b4-29c48817ec36"
      },
      "source": [
        "plt.boxplot(sent_length)\n",
        "plt.show()"
      ],
      "execution_count": null,
      "outputs": [
        {
          "output_type": "display_data",
          "data": {
            "image/png": "[encoded data removed]",
            "text/plain": [
              "<Figure size 432x288 with 1 Axes>"
            ]
          },
          "metadata": {
            "needs_background": "light"
          }
        }
      ]
    },
    {
      "cell_type": "code",
      "metadata": {
        "id": "JKQqDb8H3feW"
      },
      "source": [
        "X1 = pad_sequences(X1,maxlen= 55)\n",
        "X2 = pad_sequences(X2,maxlen= 55)"
      ],
      "execution_count": null,
      "outputs": []
    },
    {
      "cell_type": "code",
      "metadata": {
        "colab": {
          "base_uri": "https://localhost:8080/"
        },
        "id": "EMg00GExypAh",
        "outputId": "af660d0d-0144-417a-bc22-e78fe4f8b4fe"
      },
      "source": [
        "X1[1]"
      ],
      "execution_count": null,
      "outputs": [
        {
          "output_type": "execute_result",
          "data": {
            "text/plain": [
              "array([   0,    0,    0,    0,    0,    0,    0,    0,    0,    0,    0,\n",
              "          0,    0,    0,    0,    0,    0,    0,    0,    0,    0,    0,\n",
              "          0,    0,    0,    0,    0,    0,    0,    0,    0,    0,    0,\n",
              "          0,    0,    0,    0,    0,    0,    0,    0,    0,    0,  205,\n",
              "        286,  131,  313, 1119,   48,  580,  505,  506,  531,  727,   39],\n",
              "      dtype=int32)"
            ]
          },
          "metadata": {},
          "execution_count": 62
        }
      ]
    },
    {
      "cell_type": "code",
      "metadata": {
        "colab": {
          "base_uri": "https://localhost:8080/"
        },
        "id": "nfV6rVmTytCd",
        "outputId": "f652212b-b3b0-4818-ada4-98d49b5f29a7"
      },
      "source": [
        "X2[1]"
      ],
      "execution_count": null,
      "outputs": [
        {
          "output_type": "execute_result",
          "data": {
            "text/plain": [
              "array([   0,    0,    0,    0,    0,    0,    0,    0,    0,    0,    0,\n",
              "          0,    0,    0,    0,    0,    0,    0,    0,    0,    0,    0,\n",
              "          0,    0,    0,    0,    0,    0,    0,    0,    0,    0,    0,\n",
              "          0,    0,    0,    0,    0,    0,    0,    0,    0,    0,    0,\n",
              "          0,    0,    0,    0,    0, 5238,  645, 5239, 1149, 5240, 2317],\n",
              "      dtype=int32)"
            ]
          },
          "metadata": {},
          "execution_count": 63
        }
      ]
    },
    {
      "cell_type": "code",
      "metadata": {
        "colab": {
          "base_uri": "https://localhost:8080/"
        },
        "id": "CP-XQzu9EYsU",
        "outputId": "07f3e872-055d-4fe5-eca8-f7a224572c93"
      },
      "source": [
        "X1.shape"
      ],
      "execution_count": null,
      "outputs": [
        {
          "output_type": "execute_result",
          "data": {
            "text/plain": [
              "(6263, 55)"
            ]
          },
          "metadata": {},
          "execution_count": 64
        }
      ]
    },
    {
      "cell_type": "code",
      "metadata": {
        "colab": {
          "base_uri": "https://localhost:8080/"
        },
        "id": "uLDKp2NfYu06",
        "outputId": "dbc3c53c-3815-4c6e-fd12-7b212f52b772"
      },
      "source": [
        "X2.shape"
      ],
      "execution_count": null,
      "outputs": [
        {
          "output_type": "execute_result",
          "data": {
            "text/plain": [
              "(6263, 55)"
            ]
          },
          "metadata": {},
          "execution_count": 65
        }
      ]
    },
    {
      "cell_type": "code",
      "metadata": {
        "id": "JLeNoS_c4KFn"
      },
      "source": [
        "Y = pd.get_dummies(final_df['Class_Encoded'])"
      ],
      "execution_count": null,
      "outputs": []
    },
    {
      "cell_type": "code",
      "metadata": {
        "colab": {
          "base_uri": "https://localhost:8080/"
        },
        "id": "MJ_gkAbB9KFv",
        "outputId": "a3d41ea1-8d41-46f9-f26d-d0e1a81e19ab"
      },
      "source": [
        "Y.shape"
      ],
      "execution_count": null,
      "outputs": [
        {
          "output_type": "execute_result",
          "data": {
            "text/plain": [
              "(6263, 4)"
            ]
          },
          "metadata": {},
          "execution_count": 67
        }
      ]
    },
    {
      "cell_type": "markdown",
      "metadata": {
        "id": "P0cKaV6bH9F7"
      },
      "source": [
        "# Data Splitting\n",
        "Data was split into 3 parts- training, validation, and test. Since there is class imbalance, stratified sampling of ‘class’ type has been done to ensure there are equal proportion of each ‘class’ type in all the splits."
      ]
    },
    {
      "cell_type": "code",
      "metadata": {
        "id": "diNfMOAgAuqn"
      },
      "source": [
        "X1_train, X1_test, X2_train, X2_test, Y_train, Y_test = train_test_split(X1, X2, Y, test_size = 0.2, stratify=Y)\n",
        "X1_train, X1_val, X2_train, X2_val, Y_train, Y_val = train_test_split(X1_train, X2_train,  Y_train, test_size = 0.25, stratify = Y_train)"
      ],
      "execution_count": null,
      "outputs": []
    },
    {
      "cell_type": "code",
      "metadata": {
        "colab": {
          "base_uri": "https://localhost:8080/"
        },
        "id": "T_foMRg3JDke",
        "outputId": "985d8af3-dcfe-4da3-fef1-f33b0867d320"
      },
      "source": [
        "print(X1_train.shape,Y_train.shape)\n",
        "print(X2_train.shape,Y_train.shape)\n",
        "print(X1_val.shape,Y_val.shape)\n",
        "print(X2_val.shape,Y_val.shape)\n",
        "print(X1_test.shape,Y_test.shape)\n",
        "print(X2_test.shape,Y_test.shape)"
      ],
      "execution_count": null,
      "outputs": [
        {
          "output_type": "stream",
          "name": "stdout",
          "text": [
            "(3757, 55) (3757, 4)\n",
            "(3757, 55) (3757, 4)\n",
            "(1253, 55) (1253, 4)\n",
            "(1253, 55) (1253, 4)\n",
            "(1253, 55) (1253, 4)\n",
            "(1253, 55) (1253, 4)\n"
          ]
        }
      ]
    },
    {
      "cell_type": "code",
      "metadata": {
        "id": "-LY__d3IFGhf"
      },
      "source": [
        "Y_test = Y_test.idxmax(axis=1)"
      ],
      "execution_count": null,
      "outputs": []
    },
    {
      "cell_type": "markdown",
      "metadata": {
        "id": "3jUp-h7MVlMr"
      },
      "source": [
        "# Performance Metric\n",
        "- For this task, the priority was given to the ‘support’, ‘deny’ and ‘query’ class of the target variable.\n",
        "- Macro-averaged F1 score was used as one of our primary performance evaluation metrics to give equal importance to all the classes of both the target variables.\n",
        "- But since ‘comment’ class is not contributive to the veracity of the replies, less preference was given to this class. F1 also gives good balance between precision and recall. \n",
        "- Accuracy was used to determine the amount of overfitting.\n",
        "- Classification Report and Confusion Matrix were used to determine the performance of the model on test unseen data."
      ]
    },
    {
      "cell_type": "code",
      "metadata": {
        "id": "M2IoIgykVq8q"
      },
      "source": [
        "# method for setting performance metric\n",
        "def set_metric():\n",
        "  METRICS = [tfa.metrics.F1Score(num_classes=4,average='macro'), tf.keras.metrics.CategoricalAccuracy(name='accuracy'),]\n",
        "  return METRICS"
      ],
      "execution_count": null,
      "outputs": []
    },
    {
      "cell_type": "code",
      "metadata": {
        "id": "J7Ptm1S8VuX3"
      },
      "source": [
        "# method for plotting confusion matrix\n",
        "def plot_cm(labels, predictions):\n",
        "  cm = confusion_matrix(labels, predictions)\n",
        "  plt.figure(figsize=(8,6))\n",
        "  sns.heatmap(cm, annot=True, fmt=\"d\")\n",
        "  plt.title('Confusion matrix @{:.2f}')\n",
        "  plt.ylabel('Actual label')\n",
        "  plt.xlabel('Predicted label')"
      ],
      "execution_count": null,
      "outputs": []
    },
    {
      "cell_type": "markdown",
      "metadata": {
        "id": "Mi3GQvY9HjVo"
      },
      "source": [
        "# Modelling\n",
        "- After carefully analysing different modelling techniques like RNN, LSTM, GRU and Transformer based models, LSTM was selected as the final model because of its simplicity. \n",
        "- Recurrent Neural Network (RNN) is meant to have long term memory for sequence-based problems such as text classification but in real scenario, it doesn’t have long term memory because of the vanishing gradients problem. \n",
        "- Long Short-Term Memory (LSTM) encounters this problem by implementing forget gate which removes information that’s not useful for the prediction and only holds the information that is relevant."
      ]
    },
    {
      "cell_type": "markdown",
      "metadata": {
        "id": "MisFhRY0b4AV"
      },
      "source": [
        "## No Transfer Learning"
      ]
    },
    {
      "cell_type": "markdown",
      "metadata": {
        "id": "VNUJilCDQZX1"
      },
      "source": [
        "### Baseline Model\n",
        "- Multiple input model was created to incorporate sources and replies, and same embedding has been shared between both so that source and replies are represented by the same set of features.\n",
        "- The embedding dimension has been chosen by experimenting different values in the range 25-150 and the best one turned out to be 50 for this problem as our data corpus is not quite huge.\n",
        "- Adam optimizer has been used for model compilation. Adam combines the best properties of the AdaGrad and RMSProp algorithms to provide an optimization algorithm that can handle sparse gradients on noisy problems. "
      ]
    },
    {
      "cell_type": "code",
      "metadata": {
        "id": "m_5hPc--9zty"
      },
      "source": [
        "# learning rate decay scheduler\n",
        "lr_schedule = tf.keras.optimizers.schedules.ExponentialDecay(\n",
        "    initial_learning_rate=1e-2,\n",
        "    decay_steps=10000,\n",
        "    decay_rate=0.9)"
      ],
      "execution_count": null,
      "outputs": []
    },
    {
      "cell_type": "code",
      "metadata": {
        "colab": {
          "base_uri": "https://localhost:8080/"
        },
        "id": "-hpzIdGpOUPA",
        "outputId": "5c8cb7d5-52ee-425e-9ba5-1fcc3cec6616"
      },
      "source": [
        "embedding_dim = 50\n",
        "\n",
        "source_input= Input(shape=(X1_train.shape[1]), name='source_input')\n",
        "reply_input = Input(shape=(X2_train.shape[1]), name='reply_input')\n",
        "\n",
        "embedding_layer = Embedding(len(word_index) + 1, embedding_dim, input_length = X1_train.shape[1] , trainable=True)\n",
        "\n",
        "x1 = embedding_layer(reply_input)\n",
        "x2 = embedding_layer(source_input)\n",
        "\n",
        "x = tf.keras.layers.concatenate([x1, x2])\n",
        "\n",
        "# x = GRU(64, return_sequences=True)(x)\n",
        "x = LSTM(32, return_sequences=False)(x)\n",
        "\n",
        "out = Dense(4, activation='softmax', name='output')(x)\n",
        "\n",
        "model_BL = Model(inputs=[reply_input, source_input], outputs=[out])\n",
        "\n",
        "model_BL.compile(loss=tf.keras.losses.CategoricalCrossentropy(from_logits=False),\n",
        "              optimizer=tf.keras.optimizers.Adam(),\n",
        "              metrics=set_metric())\n",
        "print(model_BL.summary())"
      ],
      "execution_count": null,
      "outputs": [
        {
          "output_type": "stream",
          "name": "stdout",
          "text": [
            "Model: \"model_5\"\n",
            "__________________________________________________________________________________________________\n",
            "Layer (type)                    Output Shape         Param #     Connected to                     \n",
            "==================================================================================================\n",
            "reply_input (InputLayer)        [(None, 55)]         0                                            \n",
            "__________________________________________________________________________________________________\n",
            "source_input (InputLayer)       [(None, 55)]         0                                            \n",
            "__________________________________________________________________________________________________\n",
            "embedding_5 (Embedding)         (None, 55, 50)       551200      reply_input[0][0]                \n",
            "                                                                 source_input[0][0]               \n",
            "__________________________________________________________________________________________________\n",
            "concatenate_5 (Concatenate)     (None, 55, 100)      0           embedding_5[0][0]                \n",
            "                                                                 embedding_5[1][0]                \n",
            "__________________________________________________________________________________________________\n",
            "lstm_5 (LSTM)                   (None, 32)           17024       concatenate_5[0][0]              \n",
            "__________________________________________________________________________________________________\n",
            "output (Dense)                  (None, 4)            132         lstm_5[0][0]                     \n",
            "==================================================================================================\n",
            "Total params: 568,356\n",
            "Trainable params: 568,356\n",
            "Non-trainable params: 0\n",
            "__________________________________________________________________________________________________\n",
            "None\n"
          ]
        }
      ]
    },
    {
      "cell_type": "code",
      "metadata": {
        "colab": {
          "base_uri": "https://localhost:8080/",
          "height": 466
        },
        "id": "Ph6eOQcERDax",
        "outputId": "ebfeb066-764e-4a72-c978-4d99614a940a"
      },
      "source": [
        "tf.keras.utils.plot_model(model_BL)"
      ],
      "execution_count": null,
      "outputs": [
        {
          "output_type": "execute_result",
          "data": {
            "image/png": "[encoded data removed]",
            "text/plain": [
              "<IPython.core.display.Image object>"
            ]
          },
          "metadata": {},
          "execution_count": 262
        }
      ]
    },
    {
      "cell_type": "code",
      "metadata": {
        "id": "sD85NLf6uJoE"
      },
      "source": [
        "batch_size = 32\n",
        "m_histories = {}"
      ],
      "execution_count": null,
      "outputs": []
    },
    {
      "cell_type": "code",
      "metadata": {
        "id": "oxzYf43u_kuJ"
      },
      "source": [
        "m_histories['BL'] =  model_BL.fit([X1_train,X2_train], Y_train, validation_data=([X1_val,X2_val], Y_val), epochs = 30, batch_size=batch_size, callbacks= [early_stopping])"
      ],
      "execution_count": null,
      "outputs": []
    },
    {
      "cell_type": "code",
      "metadata": {
        "colab": {
          "base_uri": "https://localhost:8080/",
          "height": 501
        },
        "id": "7SBceCgDeI0z",
        "outputId": "0654f7e7-7876-4ec3-fe81-63fa8768af80"
      },
      "source": [
        "plotter(m_histories, ylim=[0.0, 2.0], metric = 'loss')"
      ],
      "execution_count": null,
      "outputs": [
        {
          "output_type": "display_data",
          "data": {
            "image/png": "[encoded data removed]",
            "text/plain": [
              "<Figure size 864x576 with 1 Axes>"
            ]
          },
          "metadata": {
            "needs_background": "light"
          }
        }
      ]
    },
    {
      "cell_type": "code",
      "metadata": {
        "colab": {
          "base_uri": "https://localhost:8080/",
          "height": 497
        },
        "id": "BLdUwce5ekQh",
        "outputId": "ed3e2bf4-5c94-42eb-c81b-fbd2df876ff8"
      },
      "source": [
        "plotter(m_histories, ylim=[0.0, 1.1], metric = 'accuracy')"
      ],
      "execution_count": null,
      "outputs": [
        {
          "output_type": "display_data",
          "data": {
            "image/png": "[encoded data removed]",
            "text/plain": [
              "<Figure size 864x576 with 1 Axes>"
            ]
          },
          "metadata": {
            "needs_background": "light"
          }
        }
      ]
    },
    {
      "cell_type": "code",
      "metadata": {
        "id": "6nz4ayYbmT3Q"
      },
      "source": [
        "Y_pred_BL = model_BL.predict([X1_test,X2_test])\n",
        "Y_pred_BL = np.argmax(Y_pred_BL, axis = 1)"
      ],
      "execution_count": null,
      "outputs": []
    },
    {
      "cell_type": "code",
      "metadata": {
        "colab": {
          "base_uri": "https://localhost:8080/"
        },
        "id": "54zM_PTxnB-a",
        "outputId": "c3e959a0-a57c-46f1-c78a-9fa0e03c845e"
      },
      "source": [
        "print(classification_report(Y_test,Y_pred_BL))"
      ],
      "execution_count": null,
      "outputs": [
        {
          "output_type": "stream",
          "name": "stdout",
          "text": [
            "              precision    recall  f1-score   support\n",
            "\n",
            "           0       0.76      0.84      0.80       910\n",
            "           1       0.33      0.20      0.25       104\n",
            "           2       0.15      0.11      0.12       104\n",
            "           3       0.25      0.21      0.23       135\n",
            "\n",
            "    accuracy                           0.66      1253\n",
            "   macro avg       0.37      0.34      0.35      1253\n",
            "weighted avg       0.62      0.66      0.63      1253\n",
            "\n"
          ]
        }
      ]
    },
    {
      "cell_type": "code",
      "metadata": {
        "colab": {
          "base_uri": "https://localhost:8080/",
          "height": 404
        },
        "id": "RvlyZaeE5KAO",
        "outputId": "856a38b0-6bec-485e-d65b-5915b24654d0"
      },
      "source": [
        "plot_cm(Y_test,Y_pred_BL)"
      ],
      "execution_count": null,
      "outputs": [
        {
          "output_type": "display_data",
          "data": {
            "image/png": "[encoded data removed]",
            "text/plain": [
              "<Figure size 576x432 with 2 Axes>"
            ]
          },
          "metadata": {
            "needs_background": "light"
          }
        }
      ]
    },
    {
      "cell_type": "markdown",
      "metadata": {
        "id": "H-NBaBbRNp4Z"
      },
      "source": [
        "#### Observation\n",
        "- The model's performance and generalizability power is really low as we can see the effect of imabalanced class. 'Comment' class is getting over-predicted.\n",
        "- The amount of overfitting is also huge because of less number of observations of minority class."
      ]
    },
    {
      "cell_type": "markdown",
      "metadata": {
        "id": "z57E16BLkCqa"
      },
      "source": [
        "### Baseline Model with DropOut\n",
        "- Used to prevent overfitting.\n",
        "- Randomly sets input units of outgoing edges to 0."
      ]
    },
    {
      "cell_type": "code",
      "metadata": {
        "colab": {
          "base_uri": "https://localhost:8080/"
        },
        "id": "Uzf2asRXqh_K",
        "outputId": "970c9977-a423-47d0-eea6-a223d56fed58"
      },
      "source": [
        "embedding_dim = 64\n",
        "\n",
        "source_input= Input(shape=(X1_train.shape[1]), name='source_input')\n",
        "reply_input = Input(shape=(X2_train.shape[1]), name='reply_input')\n",
        "\n",
        "embedding_layer = Embedding(len(word_index) + 1, embedding_dim, input_length = X1_train.shape[1] , trainable=True)\n",
        "\n",
        "x1 = embedding_layer(reply_input)\n",
        "x2 = embedding_layer(source_input)\n",
        "x = tf.keras.layers.concatenate([x1, x2])\n",
        "x = SpatialDropout1D(0.2)(x)\n",
        "x = LSTM(32, dropout=0.5, recurrent_dropout=0.2, return_sequences=False)(x)\n",
        "\n",
        "out = Dense(4, activation='softmax', name='output')(x)\n",
        "model_drop = Model(inputs=[reply_input, source_input], outputs=[out])\n",
        "model_drop.compile(loss=tf.keras.losses.CategoricalCrossentropy(from_logits=False),\n",
        "              optimizer=tf.keras.optimizers.Adam(),\n",
        "              metrics=set_metric())\n",
        "print(model_drop.summary())"
      ],
      "execution_count": null,
      "outputs": [
        {
          "output_type": "stream",
          "name": "stdout",
          "text": [
            "WARNING:tensorflow:Layer lstm_6 will not use cuDNN kernels since it doesn't meet the criteria. It will use a generic GPU kernel as fallback when running on GPU.\n",
            "Model: \"model_6\"\n",
            "__________________________________________________________________________________________________\n",
            "Layer (type)                    Output Shape         Param #     Connected to                     \n",
            "==================================================================================================\n",
            "reply_input (InputLayer)        [(None, 55)]         0                                            \n",
            "__________________________________________________________________________________________________\n",
            "source_input (InputLayer)       [(None, 55)]         0                                            \n",
            "__________________________________________________________________________________________________\n",
            "embedding_6 (Embedding)         (None, 55, 64)       705536      reply_input[0][0]                \n",
            "                                                                 source_input[0][0]               \n",
            "__________________________________________________________________________________________________\n",
            "concatenate_6 (Concatenate)     (None, 55, 128)      0           embedding_6[0][0]                \n",
            "                                                                 embedding_6[1][0]                \n",
            "__________________________________________________________________________________________________\n",
            "spatial_dropout1d_2 (SpatialDro (None, 55, 128)      0           concatenate_6[0][0]              \n",
            "__________________________________________________________________________________________________\n",
            "lstm_6 (LSTM)                   (None, 32)           20608       spatial_dropout1d_2[0][0]        \n",
            "__________________________________________________________________________________________________\n",
            "output (Dense)                  (None, 4)            132         lstm_6[0][0]                     \n",
            "==================================================================================================\n",
            "Total params: 726,276\n",
            "Trainable params: 726,276\n",
            "Non-trainable params: 0\n",
            "__________________________________________________________________________________________________\n",
            "None\n"
          ]
        }
      ]
    },
    {
      "cell_type": "code",
      "metadata": {
        "id": "qvysVb3v_kzn"
      },
      "source": [
        "m_histories['drop'] =  model_drop.fit([X1_train,X2_train], [Y_train], validation_data=([X1_val,X2_val], [Y_val]), epochs = 30, batch_size=batch_size, callbacks= [early_stopping])"
      ],
      "execution_count": null,
      "outputs": []
    },
    {
      "cell_type": "code",
      "metadata": {
        "colab": {
          "base_uri": "https://localhost:8080/",
          "height": 501
        },
        "id": "JFJGe_y0fvfB",
        "outputId": "8ca9966c-5a18-4e44-ad53-99378140608a"
      },
      "source": [
        "plotter(m_histories, ylim=[0.0, 2.0], metric = 'loss')"
      ],
      "execution_count": null,
      "outputs": [
        {
          "output_type": "display_data",
          "data": {
            "image/png": "[encoded data removed]",
            "text/plain": [
              "<Figure size 864x576 with 1 Axes>"
            ]
          },
          "metadata": {
            "needs_background": "light"
          }
        }
      ]
    },
    {
      "cell_type": "code",
      "metadata": {
        "colab": {
          "base_uri": "https://localhost:8080/",
          "height": 497
        },
        "id": "zS9qeXoDfvh5",
        "outputId": "07feb586-2f68-4e10-c04c-532c8e673f7d"
      },
      "source": [
        "plotter(m_histories, ylim=[0.0, 1.1], metric = 'accuracy')"
      ],
      "execution_count": null,
      "outputs": [
        {
          "output_type": "display_data",
          "data": {
            "image/png": "[encoded data removed]",
            "text/plain": [
              "<Figure size 864x576 with 1 Axes>"
            ]
          },
          "metadata": {
            "needs_background": "light"
          }
        }
      ]
    },
    {
      "cell_type": "code",
      "metadata": {
        "id": "q_ho0WDDHeZJ"
      },
      "source": [
        "Y_pred_drop = model_drop.predict([X1_test,X2_test])\n",
        "Y_pred_drop = np.argmax(Y_pred_drop, axis = 1)"
      ],
      "execution_count": null,
      "outputs": []
    },
    {
      "cell_type": "code",
      "metadata": {
        "colab": {
          "base_uri": "https://localhost:8080/"
        },
        "id": "XxZuW_gMHeZK",
        "outputId": "7669e781-61bf-4607-b864-b013b5dda260"
      },
      "source": [
        "print(classification_report(Y_test,Y_pred_drop))"
      ],
      "execution_count": null,
      "outputs": [
        {
          "output_type": "stream",
          "name": "stdout",
          "text": [
            "              precision    recall  f1-score   support\n",
            "\n",
            "           0       0.77      0.80      0.78       910\n",
            "           1       0.30      0.19      0.23       104\n",
            "           2       0.19      0.14      0.16       104\n",
            "           3       0.23      0.27      0.24       135\n",
            "\n",
            "    accuracy                           0.63      1253\n",
            "   macro avg       0.37      0.35      0.36      1253\n",
            "weighted avg       0.62      0.63      0.63      1253\n",
            "\n"
          ]
        }
      ]
    },
    {
      "cell_type": "code",
      "metadata": {
        "colab": {
          "base_uri": "https://localhost:8080/",
          "height": 404
        },
        "id": "1E5e0yqp5e2G",
        "outputId": "576df34b-b43d-47d0-f2b0-6b806782f44a"
      },
      "source": [
        "plot_cm(Y_test,Y_pred_drop)"
      ],
      "execution_count": null,
      "outputs": [
        {
          "output_type": "display_data",
          "data": {
            "image/png": "[encoded data removed]",
            "text/plain": [
              "<Figure size 576x432 with 2 Axes>"
            ]
          },
          "metadata": {
            "needs_background": "light"
          }
        }
      ]
    },
    {
      "cell_type": "markdown",
      "metadata": {
        "id": "eD2XDZNeuoh6"
      },
      "source": [
        "### Baseline Model with Class Weights\n",
        "- Used to give equal weightage to both the classes.\n",
        "- Model will penalize more for wrong prediction of minority class."
      ]
    },
    {
      "cell_type": "code",
      "metadata": {
        "id": "Dx7jW6xmz9pa"
      },
      "source": [
        "model_drop.compile(loss=tf.keras.losses.CategoricalCrossentropy(from_logits=False),\n",
        "              optimizer=tf.keras.optimizers.Adam(),\n",
        "              metrics=set_metric())"
      ],
      "execution_count": null,
      "outputs": []
    },
    {
      "cell_type": "code",
      "metadata": {
        "id": "fPWGgyRcun1y"
      },
      "source": [
        "class_weights = compute_class_weight('balanced', np.unique(final_data['Class']), final_data['Class'])\n",
        "class_weights = dict(enumerate(class_weights))"
      ],
      "execution_count": null,
      "outputs": []
    },
    {
      "cell_type": "code",
      "metadata": {
        "colab": {
          "base_uri": "https://localhost:8080/"
        },
        "id": "45h0PtlHgAG5",
        "outputId": "9af49d01-e7c5-4a50-f636-799e985cb1e4"
      },
      "source": [
        "class_weights"
      ],
      "execution_count": null,
      "outputs": [
        {
          "output_type": "execute_result",
          "data": {
            "text/plain": [
              "{0: 0.34412087912087913,\n",
              " 1: 3.0226833976833976,\n",
              " 2: 3.011057692307692,\n",
              " 3: 2.3196296296296297}"
            ]
          },
          "metadata": {},
          "execution_count": 279
        }
      ]
    },
    {
      "cell_type": "code",
      "metadata": {
        "id": "l84J3sZru11O"
      },
      "source": [
        "m_histories['CW'] = model_drop.fit([X1_train,X2_train], Y_train, validation_data=([X1_val,X2_val], Y_val), epochs = 30, batch_size=batch_size, callbacks= [early_stopping],class_weight=class_weights)"
      ],
      "execution_count": null,
      "outputs": []
    },
    {
      "cell_type": "code",
      "metadata": {
        "colab": {
          "base_uri": "https://localhost:8080/",
          "height": 501
        },
        "id": "R9dRVuwVySqG",
        "outputId": "0d67228a-4270-459d-f973-7a6070748ce0"
      },
      "source": [
        "plotter(m_histories, ylim=[0.0, 2.0], metric = 'loss')"
      ],
      "execution_count": null,
      "outputs": [
        {
          "output_type": "display_data",
          "data": {
            "image/png": "[encoded data removed]",
            "text/plain": [
              "<Figure size 864x576 with 1 Axes>"
            ]
          },
          "metadata": {
            "needs_background": "light"
          }
        }
      ]
    },
    {
      "cell_type": "code",
      "metadata": {
        "colab": {
          "base_uri": "https://localhost:8080/",
          "height": 497
        },
        "id": "yaqOWo_7ySqH",
        "outputId": "3faa1bb8-a7e6-407e-ed70-d900638aca9d"
      },
      "source": [
        "plotter(m_histories, ylim=[0.0, 1.1], metric = 'accuracy')"
      ],
      "execution_count": null,
      "outputs": [
        {
          "output_type": "display_data",
          "data": {
            "image/png": "[encoded data removed]",
            "text/plain": [
              "<Figure size 864x576 with 1 Axes>"
            ]
          },
          "metadata": {
            "needs_background": "light"
          }
        }
      ]
    },
    {
      "cell_type": "code",
      "metadata": {
        "id": "R-uZNcvGySqH"
      },
      "source": [
        "Y_pred_CW = model_drop.predict([X1_test,X2_test])\n",
        "Y_pred_CW = np.argmax(Y_pred_CW, axis = 1)"
      ],
      "execution_count": null,
      "outputs": []
    },
    {
      "cell_type": "code",
      "metadata": {
        "colab": {
          "base_uri": "https://localhost:8080/"
        },
        "id": "qVfu2UlKySqH",
        "outputId": "3737a9f7-4994-4268-95ab-fe702e51cabb"
      },
      "source": [
        "print(classification_report(Y_test,Y_pred_CW))"
      ],
      "execution_count": null,
      "outputs": [
        {
          "output_type": "stream",
          "name": "stdout",
          "text": [
            "              precision    recall  f1-score   support\n",
            "\n",
            "           0       0.77      0.74      0.76       910\n",
            "           1       0.27      0.27      0.27       104\n",
            "           2       0.17      0.21      0.19       104\n",
            "           3       0.25      0.27      0.26       135\n",
            "\n",
            "    accuracy                           0.61      1253\n",
            "   macro avg       0.37      0.37      0.37      1253\n",
            "weighted avg       0.63      0.61      0.62      1253\n",
            "\n"
          ]
        }
      ]
    },
    {
      "cell_type": "code",
      "metadata": {
        "colab": {
          "base_uri": "https://localhost:8080/",
          "height": 404
        },
        "id": "wxdpm1Om5kWX",
        "outputId": "6bb4ca23-f4e1-467c-a571-4a09ecee9722"
      },
      "source": [
        "plot_cm(Y_test,Y_pred_CW)"
      ],
      "execution_count": null,
      "outputs": [
        {
          "output_type": "display_data",
          "data": {
            "image/png": "[encoded data removed]",
            "text/plain": [
              "<Figure size 576x432 with 2 Axes>"
            ]
          },
          "metadata": {
            "needs_background": "light"
          }
        }
      ]
    },
    {
      "cell_type": "code",
      "metadata": {
        "id": "03djvomikawN"
      },
      "source": [
        "# model_drop.save(\"model_drop.h5\")\n",
        "# !cp -R ./model_drop.h5 /content/drive/MyDrive/DeepLearning/Assignment2/Rumour_data/"
      ],
      "execution_count": null,
      "outputs": []
    },
    {
      "cell_type": "markdown",
      "metadata": {
        "id": "W0dHqyKikF-P"
      },
      "source": [
        "## Transfer Learning with Glove Embedding\n",
        "\n",
        "After carefully analysing different pre-trained embeddings, glove.twitter.27B.50d was chosen as it was trained on twitter data and that’s where our majority proportion of data is coming from. There were different dimensions available and given our problem, 50 dimension was selected by comparing different dimensions. It was also fine-tuned by unfreezing trainable layers."
      ]
    },
    {
      "cell_type": "code",
      "metadata": {
        "id": "X255PQYZVVwm"
      },
      "source": [
        "!cp /content/drive/MyDrive/DeepLearning/glove/glove.twitter.27B.50d.txt ."
      ],
      "execution_count": null,
      "outputs": []
    },
    {
      "cell_type": "code",
      "metadata": {
        "id": "_ioP8WwOf0l3"
      },
      "source": [
        "file = open('glove.twitter.27B.50d.txt', encoding='utf-8')\n",
        "\n",
        "glove_vectors = dict()\n",
        "for line in file:\n",
        "  values = line.split()\n",
        "  word = values[0]\n",
        "  features = np.asarray(values[1:])\n",
        "  glove_vectors[word] = features\n",
        "\n",
        "file.close()"
      ],
      "execution_count": null,
      "outputs": []
    },
    {
      "cell_type": "code",
      "metadata": {
        "id": "QWWCWP1bsijJ"
      },
      "source": [
        "embedding_dim = 50\n",
        "E_T = np.zeros((len(word_index) + 1, embedding_dim))\n",
        "for word, i in word_index.items():\n",
        "    embedding_vector = glove_vectors.get(word)\n",
        "    if embedding_vector is not None:\n",
        "        E_T[i] = embedding_vector"
      ],
      "execution_count": null,
      "outputs": []
    },
    {
      "cell_type": "code",
      "metadata": {
        "id": "-Zs4UDov08-a"
      },
      "source": [
        "source_input= Input(shape=(X1_train.shape[1]), name='source_input')\n",
        "reply_input = Input(shape=(X2_train.shape[1]), name='reply_input')\n",
        "\n",
        "embedding_layer_TL = Embedding(len(word_index) + 1,\n",
        "                            embedding_dim,\n",
        "                            weights=[E_T],\n",
        "                            input_length=X1.shape[1],\n",
        "                            trainable=False)\n",
        "\n",
        "x1 = embedding_layer_TL(reply_input)\n",
        "x2 = embedding_layer_TL(source_input)\n",
        "x = tf.keras.layers.concatenate([x1, x2])\n",
        "x = LSTM(32, dropout=0.5, recurrent_dropout=0.2, return_sequences=False)(x)\n",
        "\n",
        "out = Dense(4, activation='softmax', name='output')(x)\n",
        "model_TL = Model(inputs=[reply_input, source_input], outputs=[out])\n",
        "model_TL.compile(loss=tf.keras.losses.CategoricalCrossentropy(from_logits=False),\n",
        "              optimizer=tf.keras.optimizers.Adam(),\n",
        "              metrics=set_metric())\n",
        "\n",
        "print(model_TL.summary())"
      ],
      "execution_count": null,
      "outputs": []
    },
    {
      "cell_type": "code",
      "metadata": {
        "id": "jnF7GPT9sioI"
      },
      "source": [
        "m_histories['TL'] =  model_TL.fit([X1_train,X2_train], Y_train, validation_data=([X1_val,X2_val], Y_val), epochs = 50, batch_size=64, callbacks= [early_stopping],class_weight=class_weights)"
      ],
      "execution_count": null,
      "outputs": []
    },
    {
      "cell_type": "code",
      "metadata": {
        "id": "diraHhinK47o"
      },
      "source": [
        "plotter(m_histories, ylim=[0.0, 2.0], metric = 'loss')"
      ],
      "execution_count": null,
      "outputs": []
    },
    {
      "cell_type": "code",
      "metadata": {
        "id": "wGMEvmDOK47p"
      },
      "source": [
        "plotter(m_histories, ylim=[0.0, 1.1], metric = 'accuracy')"
      ],
      "execution_count": null,
      "outputs": []
    },
    {
      "cell_type": "code",
      "metadata": {
        "id": "ApCJhpMkK47p"
      },
      "source": [
        "Y_pred_TL = model_TL.predict([X1_test,X2_test])\n",
        "Y_pred_TL = np.argmax(Y_pred_TL, axis = 1)"
      ],
      "execution_count": null,
      "outputs": []
    },
    {
      "cell_type": "code",
      "metadata": {
        "id": "CdTUHILnK47p"
      },
      "source": [
        "print(classification_report(Y_test,Y_pred_TL))"
      ],
      "execution_count": null,
      "outputs": []
    },
    {
      "cell_type": "code",
      "metadata": {
        "id": "z_ekUW-B5tk_"
      },
      "source": [
        "plot_cm(Y_test,Y_pred_TL)"
      ],
      "execution_count": null,
      "outputs": []
    },
    {
      "cell_type": "code",
      "metadata": {
        "id": "qWns7Bsr4QCd"
      },
      "source": [
        "# model.save(\"model_TL.h5\")\n",
        "# !cp -R ./model_TL.h5 /content/drive/MyDrive/DeepLearning/Assignment2/Rumour_data/"
      ],
      "execution_count": null,
      "outputs": []
    },
    {
      "cell_type": "markdown",
      "metadata": {
        "id": "TGh53Wtm4JBx"
      },
      "source": [
        "## Bidirectional LSTM\n",
        "\n",
        "LSTM has a limitation that it can capture past dependency very well but not future dependency of a sentence. Bidirectional LSTM overcomes this issue by processing the tokens in reverse direction i.e., from end of the sentence to the beginning."
      ]
    },
    {
      "cell_type": "code",
      "metadata": {
        "id": "KvW31iYx4MoF"
      },
      "source": [
        "embedding_dim = 50\n",
        "\n",
        "source_input= Input(shape=(X1_train.shape[1]), name='source_input')\n",
        "reply_input = Input(shape=(X2_train.shape[1]), name='reply_input')\n",
        "\n",
        "embedding_layer_TL = Embedding(len(word_index) + 1,\n",
        "                            embedding_dim,\n",
        "                            weights=[E_T],\n",
        "                            input_length=X1.shape[1],\n",
        "                            trainable=True)\n",
        "\n",
        "x1 = embedding_layer_TL(reply_input)\n",
        "x2 = embedding_layer_TL(source_input)\n",
        "x = tf.keras.layers.concatenate([x1, x2])\n",
        "x = Bidirectional(LSTM(64, dropout=0.5, recurrent_dropout=0.2, return_sequences=True))(x)\n",
        "x = LSTM(32, dropout=0.5, recurrent_dropout=0.2, return_sequences=False)(x)\n",
        "\n",
        "out = Dense(4, activation='softmax', name='output')(x)\n",
        "model_BTL = Model(inputs=[reply_input, source_input], outputs=[out])\n",
        "model_BTL.compile(loss=tf.keras.losses.CategoricalCrossentropy(from_logits=False),\n",
        "              optimizer=tf.keras.optimizers.Adam(),\n",
        "              metrics=set_metric())\n",
        "\n",
        "print(model_BTL.summary())"
      ],
      "execution_count": null,
      "outputs": []
    },
    {
      "cell_type": "code",
      "metadata": {
        "colab": {
          "base_uri": "https://localhost:8080/",
          "height": 564
        },
        "id": "WPSVPz_cyBLv",
        "outputId": "4b11769e-d80d-409a-b5bf-f3b484adce52"
      },
      "source": [
        "tf.keras.utils.plot_model(model_BTL)"
      ],
      "execution_count": null,
      "outputs": [
        {
          "output_type": "execute_result",
          "data": {
            "image/png": "[encoded data removed]",
            "text/plain": [
              "<IPython.core.display.Image object>"
            ]
          },
          "metadata": {},
          "execution_count": 78
        }
      ]
    },
    {
      "cell_type": "code",
      "metadata": {
        "id": "SiRNOMVGxqhs"
      },
      "source": [
        ""
      ],
      "execution_count": null,
      "outputs": []
    },
    {
      "cell_type": "code",
      "metadata": {
        "colab": {
          "base_uri": "https://localhost:8080/"
        },
        "id": "Ql3U-bFB7TcF",
        "outputId": "3093dc5c-9e84-41fb-dc9b-58c16b87fdcd"
      },
      "source": [
        "m_histories['BTL'] =  model_BTL.fit([X1_train,X2_train], Y_train, validation_data=([X1_val,X2_val], Y_val), epochs = 30, batch_size=batch_size, callbacks= [early_stopping],class_weight=class_weights)"
      ],
      "execution_count": null,
      "outputs": [
        {
          "output_type": "stream",
          "name": "stdout",
          "text": [
            "Epoch 1/30\n",
            "118/118 [==============================] - 123s 647ms/step - loss: 1.3740 - f1_score: 0.2114 - accuracy: 0.2462 - val_loss: 1.3941 - val_f1_score: 0.1957 - val_accuracy: 0.1836\n",
            "Epoch 2/30\n",
            "118/118 [==============================] - 75s 640ms/step - loss: 1.3033 - f1_score: 0.2609 - accuracy: 0.2819 - val_loss: 1.2443 - val_f1_score: 0.2994 - val_accuracy: 0.3735\n",
            "Epoch 3/30\n",
            "118/118 [==============================] - 76s 649ms/step - loss: 1.2442 - f1_score: 0.3122 - accuracy: 0.3623 - val_loss: 1.3627 - val_f1_score: 0.2859 - val_accuracy: 0.3400\n",
            "Epoch 4/30\n",
            "118/118 [==============================] - 78s 662ms/step - loss: 1.1500 - f1_score: 0.3621 - accuracy: 0.4275 - val_loss: 1.3182 - val_f1_score: 0.3095 - val_accuracy: 0.3735\n",
            "Epoch 5/30\n",
            "118/118 [==============================] - 77s 653ms/step - loss: 1.0719 - f1_score: 0.3975 - accuracy: 0.4589 - val_loss: 1.2399 - val_f1_score: 0.3347 - val_accuracy: 0.4533\n",
            "Epoch 6/30\n",
            "118/118 [==============================] - 75s 638ms/step - loss: 0.9798 - f1_score: 0.4483 - accuracy: 0.5094 - val_loss: 1.3592 - val_f1_score: 0.3084 - val_accuracy: 0.3974\n",
            "Epoch 7/30\n",
            "118/118 [==============================] - 77s 650ms/step - loss: 0.9190 - f1_score: 0.4681 - accuracy: 0.5318 - val_loss: 1.5000 - val_f1_score: 0.3080 - val_accuracy: 0.3775\n",
            "Epoch 8/30\n",
            "118/118 [==============================] - 75s 639ms/step - loss: 0.8544 - f1_score: 0.4819 - accuracy: 0.5406 - val_loss: 1.2466 - val_f1_score: 0.3677 - val_accuracy: 0.5211\n",
            "Epoch 9/30\n",
            "118/118 [==============================] - 75s 640ms/step - loss: 0.7693 - f1_score: 0.5308 - accuracy: 0.5933 - val_loss: 1.4148 - val_f1_score: 0.3284 - val_accuracy: 0.4166\n",
            "Epoch 10/30\n",
            "118/118 [==============================] - 76s 649ms/step - loss: 0.6868 - f1_score: 0.5531 - accuracy: 0.6103 - val_loss: 1.4703 - val_f1_score: 0.3497 - val_accuracy: 0.4565\n",
            "Epoch 11/30\n",
            "118/118 [==============================] - 75s 636ms/step - loss: 0.6125 - f1_score: 0.6030 - accuracy: 0.6644 - val_loss: 1.4449 - val_f1_score: 0.3525 - val_accuracy: 0.4852\n",
            "Epoch 12/30\n",
            "118/118 [==============================] - 77s 651ms/step - loss: 0.5628 - f1_score: 0.6295 - accuracy: 0.6926 - val_loss: 1.4551 - val_f1_score: 0.3529 - val_accuracy: 0.4996\n",
            "Epoch 13/30\n",
            "118/118 [==============================] - 76s 646ms/step - loss: 0.5325 - f1_score: 0.6443 - accuracy: 0.7043 - val_loss: 1.4398 - val_f1_score: 0.3566 - val_accuracy: 0.5044\n",
            "Epoch 14/30\n",
            "118/118 [==============================] - 77s 649ms/step - loss: 0.4663 - f1_score: 0.6757 - accuracy: 0.7322 - val_loss: 1.5922 - val_f1_score: 0.3555 - val_accuracy: 0.4972\n",
            "Epoch 15/30\n",
            "118/118 [==============================] - 76s 641ms/step - loss: 0.4251 - f1_score: 0.6964 - accuracy: 0.7511 - val_loss: 1.5844 - val_f1_score: 0.3612 - val_accuracy: 0.5204\n",
            "Epoch 16/30\n",
            "118/118 [==============================] - 76s 648ms/step - loss: 0.3915 - f1_score: 0.7024 - accuracy: 0.7575 - val_loss: 1.7049 - val_f1_score: 0.3545 - val_accuracy: 0.4892\n",
            "Epoch 17/30\n",
            "118/118 [==============================] - 75s 639ms/step - loss: 0.3744 - f1_score: 0.7242 - accuracy: 0.7836 - val_loss: 1.7606 - val_f1_score: 0.3404 - val_accuracy: 0.4717\n",
            "Epoch 18/30\n",
            "118/118 [==============================] - 76s 646ms/step - loss: 0.3134 - f1_score: 0.7522 - accuracy: 0.8049 - val_loss: 1.6268 - val_f1_score: 0.3568 - val_accuracy: 0.5419\n",
            "Restoring model weights from the end of the best epoch.\n",
            "Epoch 00018: early stopping\n"
          ]
        }
      ]
    },
    {
      "cell_type": "code",
      "metadata": {
        "colab": {
          "base_uri": "https://localhost:8080/",
          "height": 501
        },
        "id": "NcOsNZpj7TcG",
        "outputId": "940f4ecb-916f-4ee8-89c0-5e2fbf3c755f"
      },
      "source": [
        "plotter(m_histories, ylim=[0.0, 2.0], metric = 'loss')"
      ],
      "execution_count": null,
      "outputs": [
        {
          "output_type": "display_data",
          "data": {
            "image/png": "[encoded data removed]",
            "text/plain": [
              "<Figure size 864x576 with 1 Axes>"
            ]
          },
          "metadata": {
            "needs_background": "light"
          }
        }
      ]
    },
    {
      "cell_type": "code",
      "metadata": {
        "colab": {
          "base_uri": "https://localhost:8080/",
          "height": 497
        },
        "id": "ueBfDsQhN-FS",
        "outputId": "b380b60b-1a3c-4687-f99e-3b384bdda539"
      },
      "source": [
        "plotter(m_histories, ylim=[0.0, 1.1], metric = 'f1_score')"
      ],
      "execution_count": null,
      "outputs": [
        {
          "output_type": "display_data",
          "data": {
            "image/png": "[encoded data removed]",
            "text/plain": [
              "<Figure size 864x576 with 1 Axes>"
            ]
          },
          "metadata": {
            "needs_background": "light"
          }
        }
      ]
    },
    {
      "cell_type": "code",
      "metadata": {
        "id": "8F60UXRE7TcG"
      },
      "source": [
        "Y_pred_TL = model_BTL.predict([X1_test,X2_test])\n",
        "Y_pred_TL = np.argmax(Y_pred_TL, axis = 1)"
      ],
      "execution_count": null,
      "outputs": []
    },
    {
      "cell_type": "code",
      "metadata": {
        "colab": {
          "base_uri": "https://localhost:8080/"
        },
        "id": "Pi68CxxG7TcG",
        "outputId": "8cc9f73d-b193-402a-c679-42f3b470bc64"
      },
      "source": [
        "print(classification_report(Y_test,Y_pred_TL))"
      ],
      "execution_count": null,
      "outputs": [
        {
          "output_type": "stream",
          "name": "stdout",
          "text": [
            "              precision    recall  f1-score   support\n",
            "\n",
            "           0       0.88      0.66      0.75       910\n",
            "           1       0.35      0.74      0.48       104\n",
            "           2       0.45      0.64      0.53       104\n",
            "           3       0.38      0.56      0.46       135\n",
            "\n",
            "    accuracy                           0.66      1253\n",
            "   macro avg       0.52      0.65      0.56      1253\n",
            "weighted avg       0.74      0.66      0.68      1253\n",
            "\n"
          ]
        }
      ]
    },
    {
      "cell_type": "code",
      "metadata": {
        "colab": {
          "base_uri": "https://localhost:8080/",
          "height": 404
        },
        "id": "Kzif4CGD7TcG",
        "outputId": "123f42be-a293-4a62-8e29-62cd603784f9"
      },
      "source": [
        "plot_cm(Y_test,Y_pred_TL)"
      ],
      "execution_count": null,
      "outputs": [
        {
          "output_type": "display_data",
          "data": {
            "image/png": "[encoded data removed]",
            "text/plain": [
              "<Figure size 576x432 with 2 Axes>"
            ]
          },
          "metadata": {
            "needs_background": "light"
          }
        }
      ]
    },
    {
      "cell_type": "code",
      "metadata": {
        "id": "yvE5Dv8pVRGi"
      },
      "source": [
        "# model_BTL.save(\"model_BTL.h5\")\n",
        "# !cp -R ./model_BTL.h5 /content/drive/MyDrive/DeepLearning/Assignment2/Rumour_data/"
      ],
      "execution_count": null,
      "outputs": []
    },
    {
      "cell_type": "markdown",
      "metadata": {
        "id": "AfZmHfZ9zEb8"
      },
      "source": [
        "## Hyper-parameter tuning using Bayesian Optimization\n",
        "- Bayesian optimization is a sequential model-based optimization (SMBO) algorithm that uses the results from the previous iteration to decide the next hyperparameter value candidates.\n",
        "- It is used because it selects the hyper-parameter in an informed manner.\n",
        "- It also finds the best hyper-parameters in less amount of time than grid search or random search by prioritizing hyperparameters that appear more promising from past results."
      ]
    },
    {
      "cell_type": "code",
      "metadata": {
        "colab": {
          "base_uri": "https://localhost:8080/"
        },
        "id": "5nUkiPgSzRm4",
        "outputId": "ad3cb7a4-6359-4736-c525-6479aeac1b54"
      },
      "source": [
        "!pip install scikit-optimize\n",
        "#imports we know we'll need\n",
        "import skopt\n",
        "\n",
        "from skopt import gbrt_minimize, gp_minimize\n",
        "from skopt.utils import use_named_args\n",
        "from skopt.space import Real, Categorical, Integer  \n",
        "from tensorflow.python.keras import backend as K"
      ],
      "execution_count": null,
      "outputs": [
        {
          "output_type": "stream",
          "name": "stdout",
          "text": [
            "Requirement already satisfied: scikit-optimize in /usr/local/lib/python3.7/dist-packages (0.9.0)\n",
            "Requirement already satisfied: joblib>=0.11 in /usr/local/lib/python3.7/dist-packages (from scikit-optimize) (1.0.1)\n",
            "Requirement already satisfied: numpy>=1.13.3 in /usr/local/lib/python3.7/dist-packages (from scikit-optimize) (1.19.5)\n",
            "Requirement already satisfied: scikit-learn>=0.20.0 in /usr/local/lib/python3.7/dist-packages (from scikit-optimize) (0.22.2.post1)\n",
            "Requirement already satisfied: scipy>=0.19.1 in /usr/local/lib/python3.7/dist-packages (from scikit-optimize) (1.4.1)\n",
            "Requirement already satisfied: pyaml>=16.9 in /usr/local/lib/python3.7/dist-packages (from scikit-optimize) (21.10.1)\n",
            "Requirement already satisfied: PyYAML in /usr/local/lib/python3.7/dist-packages (from pyaml>=16.9->scikit-optimize) (3.13)\n"
          ]
        }
      ]
    },
    {
      "cell_type": "code",
      "metadata": {
        "id": "vlYxfQRWzKGQ"
      },
      "source": [
        "dim_learning_rate = Real(low=1e-4, high=1e-2, prior='log-uniform',\n",
        "                         name='learning_rate')\n",
        "dim_num_dense_layers = Integer(low=0, high=1, name='num_dense_layers')\n",
        "dim_num_input_nodes1 = Integer(low=32, high=128, name='num_input_nodes1')\n",
        "dim_num_input_nodes2 = Integer(low=32, high=128, name='num_input_nodes2')\n",
        "dim_num_dense_nodes = Integer(low=16, high=96, name='num_dense_nodes')\n",
        "dim_adam_decay = Real(low=1e-6,high=1e-2,name=\"adam_decay\")\n",
        "\n",
        "dimensions = [dim_learning_rate,\n",
        "              dim_num_dense_layers,\n",
        "              dim_num_input_nodes1,\n",
        "              dim_num_input_nodes2,\n",
        "              dim_num_dense_nodes,\n",
        "              dim_adam_decay\n",
        "             ]\n",
        "default_parameters = [1e-2, 0, 64, 32, 13, 1e-3]"
      ],
      "execution_count": null,
      "outputs": []
    },
    {
      "cell_type": "code",
      "metadata": {
        "id": "qr7A2tTYzKIw"
      },
      "source": [
        "# from tf.keras.optimizers import Adam\n",
        "def create_model(learning_rate, num_dense_layers,num_input_nodes1,num_input_nodes2,\n",
        "                 num_dense_nodes, adam_decay):\n",
        "  \n",
        "  \n",
        "  source_input= Input(shape=(X1_train.shape[1]), name='source_input')\n",
        "  reply_input = Input(shape=(X2_train.shape[1]), name='reply_input')\n",
        "\n",
        "  embedding_layer_TL = Embedding(len(word_index) + 1,\n",
        "                              embedding_dim,\n",
        "                              weights=[E_T],\n",
        "                              input_length=X1.shape[1],\n",
        "                              trainable=True)\n",
        "\n",
        "  x1 = embedding_layer_TL(reply_input)\n",
        "  x2 = embedding_layer_TL(source_input)\n",
        "  x = tf.keras.layers.concatenate([x1, x2])\n",
        "\n",
        "  x = LSTM(num_input_nodes1, dropout=0.2, recurrent_dropout=0.25, return_sequences=True)(x)\n",
        "  x = LSTM(num_input_nodes2, dropout=0.2, recurrent_dropout=0.25, return_sequences=False)(x)\n",
        "  \n",
        "\n",
        "  for i in range(num_dense_layers):\n",
        "        name = 'layer_dense_{0}'.format(i+1)\n",
        "        model.add(Dense(num_dense_nodes,\n",
        "                 activation='relu',\n",
        "                        name=name\n",
        "                 ))\n",
        "  out = Dense(4, activation='softmax', name='output')(x)\n",
        "  \n",
        "  model = Model(inputs=[reply_input, source_input], outputs=[out])\n",
        "\n",
        "  model.compile(loss=tf.keras.losses.CategoricalCrossentropy(from_logits=False),\n",
        "                optimizer=tf.keras.optimizers.Adam(),\n",
        "                metrics=set_metric())\n",
        "  \n",
        "  return model"
      ],
      "execution_count": null,
      "outputs": []
    },
    {
      "cell_type": "code",
      "metadata": {
        "id": "4OJqlpwFzKLK"
      },
      "source": [
        "def fitting(learning_rate=1e-2, num_dense_layers =0, num_input_nodes1 =64, num_input_nodes2 =32, \n",
        "            num_dense_nodes= 13, adam_decay = 1e-3):\n",
        "\n",
        "    model = create_model(learning_rate=learning_rate,\n",
        "                         num_dense_layers=num_dense_layers,\n",
        "                         num_input_nodes1=num_input_nodes1,\n",
        "                         num_input_nodes2=num_input_nodes2,\n",
        "                         num_dense_nodes=num_dense_nodes,\n",
        "                         adam_decay=adam_decay\n",
        "                        )\n",
        "    \n",
        "    #named blackbox becuase it represents the structure\n",
        "    blackbox = model.fit([X1_train,X2_train],\n",
        "                         Y_train,\n",
        "                         validation_data=([X1_val,X2_val], Y_val),\n",
        "                         epochs = 30,\n",
        "                         batch_size=32,\n",
        "                         callbacks= [early_stopping],\n",
        "                         class_weight=class_weights\n",
        "                        )\n",
        "    \n",
        "    #return the validation accuracy for the last epoch.\n",
        "    f1 = blackbox.history['val_f1_score'][-1]\n",
        "\n",
        "    # Print the classification accuracy.\n",
        "    print()\n",
        "    print(\"F1: {0:.2%}\".format(f1))\n",
        "    print()\n",
        "\n",
        "\n",
        "    # Delete the Keras model with these hyper-parameters from memory.\n",
        "    del model\n",
        "    \n",
        "    # Clear the Keras session, otherwise it will keep adding new\n",
        "    # models to the same TensorFlow graph each time we create\n",
        "    # a model with a different set of hyper-parameters.\n",
        "    K.clear_session()\n",
        "    tf.compat.v1.reset_default_graph()\n",
        "    \n",
        "    # the optimizer aims for the lowest score, so we return our negative accuracy\n",
        "    return -f1"
      ],
      "execution_count": null,
      "outputs": []
    },
    {
      "cell_type": "code",
      "metadata": {
        "id": "zyoQa_i9zKNw"
      },
      "source": [
        "# K.clear_session()\n",
        "# tensorflow.reset_default_graph()"
      ],
      "execution_count": null,
      "outputs": []
    },
    {
      "cell_type": "code",
      "metadata": {
        "id": "BHw1L3yUzKQO"
      },
      "source": [
        "gp_result = gp_minimize(func=fitting,\n",
        "                            dimensions=dimensions,\n",
        "                            n_calls=12,\n",
        "                            noise= 0.001,\n",
        "                            n_jobs=-1,\n",
        "                        verbose = True\n",
        "                            )"
      ],
      "execution_count": null,
      "outputs": []
    },
    {
      "cell_type": "code",
      "metadata": {
        "colab": {
          "base_uri": "https://localhost:8080/"
        },
        "id": "wnMrpVbTzKT9",
        "outputId": "c97684c2-4cc2-4f46-8eef-09188576d8ae"
      },
      "source": [
        "gp_result.fun"
      ],
      "execution_count": null,
      "outputs": [
        {
          "output_type": "execute_result",
          "data": {
            "text/plain": [
              "-0.37590456008911133"
            ]
          },
          "metadata": {},
          "execution_count": 375
        }
      ]
    },
    {
      "cell_type": "code",
      "metadata": {
        "colab": {
          "base_uri": "https://localhost:8080/"
        },
        "id": "tpNs7H3BmwNY",
        "outputId": "adf17995-6a42-4fd7-fab0-fe33e9a4b0e7"
      },
      "source": [
        "gp_result.x"
      ],
      "execution_count": null,
      "outputs": [
        {
          "output_type": "execute_result",
          "data": {
            "text/plain": [
              "[0.00011144693659375404, 0, 117, 41, 61, 0.009898951727690277]"
            ]
          },
          "metadata": {},
          "execution_count": 376
        }
      ]
    },
    {
      "cell_type": "code",
      "metadata": {
        "id": "wDbJSuDtzKW5"
      },
      "source": [
        "model_GO = create_model(gp_result.x[0],gp_result.x[1],gp_result.x[2],gp_result.x[3],gp_result.x[4],gp_result.x[5])"
      ],
      "execution_count": null,
      "outputs": []
    },
    {
      "cell_type": "code",
      "metadata": {
        "id": "aE-_iBRgnpR9"
      },
      "source": [
        "m_histories['BO'] =  model_GO.fit([X1_train,X2_train], Y_train, validation_data=([X1_val,X2_val], Y_val), epochs = 30, batch_size=batch_size, callbacks= [early_stopping],class_weight=class_weights)"
      ],
      "execution_count": null,
      "outputs": []
    },
    {
      "cell_type": "code",
      "metadata": {
        "id": "eoi71tHjzKaF"
      },
      "source": [
        "Y_pred_GO = model_GO.predict([X1_test,X2_test])\n",
        "Y_pred_GO = np.argmax(Y_pred_GO, axis = 1)"
      ],
      "execution_count": null,
      "outputs": []
    },
    {
      "cell_type": "code",
      "metadata": {
        "colab": {
          "base_uri": "https://localhost:8080/"
        },
        "id": "AxSTTt32nYf7",
        "outputId": "644db63c-f1e2-4754-a08e-9a75a93b41e7"
      },
      "source": [
        "print(classification_report(Y_test,Y_pred_GO))"
      ],
      "execution_count": null,
      "outputs": [
        {
          "output_type": "stream",
          "name": "stdout",
          "text": [
            "              precision    recall  f1-score   support\n",
            "\n",
            "           0       0.78      0.72      0.75       910\n",
            "           1       0.23      0.27      0.25       104\n",
            "           2       0.17      0.23      0.20       104\n",
            "           3       0.26      0.28      0.27       135\n",
            "\n",
            "    accuracy                           0.59      1253\n",
            "   macro avg       0.36      0.38      0.37      1253\n",
            "weighted avg       0.63      0.59      0.61      1253\n",
            "\n"
          ]
        }
      ]
    },
    {
      "cell_type": "code",
      "metadata": {
        "id": "1zBlHf-qnYuO"
      },
      "source": [
        ""
      ],
      "execution_count": null,
      "outputs": []
    },
    {
      "cell_type": "markdown",
      "metadata": {
        "id": "jHtwnUyTbzoG"
      },
      "source": [
        "# Independent Test Data"
      ]
    },
    {
      "cell_type": "code",
      "metadata": {
        "id": "NLMM63UNb2gR"
      },
      "source": [
        "independent_data = pd.read_excel('/content/drive/MyDrive/Assignment2/independent_test.xlsx')"
      ],
      "execution_count": null,
      "outputs": []
    },
    {
      "cell_type": "code",
      "metadata": {
        "colab": {
          "base_uri": "https://localhost:8080/",
          "height": 204
        },
        "id": "rJ6PHTDqb2jo",
        "outputId": "170f285e-9202-4c2a-9f8b-0705ffd8a41b"
      },
      "source": [
        "independent_data.head()"
      ],
      "execution_count": null,
      "outputs": [
        {
          "output_type": "execute_result",
          "data": {
            "text/html": [
              "<div>\n",
              "<style scoped>\n",
              "    .dataframe tbody tr th:only-of-type {\n",
              "        vertical-align: middle;\n",
              "    }\n",
              "\n",
              "    .dataframe tbody tr th {\n",
              "        vertical-align: top;\n",
              "    }\n",
              "\n",
              "    .dataframe thead th {\n",
              "        text-align: right;\n",
              "    }\n",
              "</style>\n",
              "<table border=\"1\" class=\"dataframe\">\n",
              "  <thead>\n",
              "    <tr style=\"text-align: right;\">\n",
              "      <th></th>\n",
              "      <th>Type</th>\n",
              "      <th>Msg_ID</th>\n",
              "      <th>Source_Msg_ID</th>\n",
              "      <th>Text</th>\n",
              "      <th>Topic</th>\n",
              "      <th>Class</th>\n",
              "    </tr>\n",
              "  </thead>\n",
              "  <tbody>\n",
              "    <tr>\n",
              "      <th>0</th>\n",
              "      <td>Source</td>\n",
              "      <td>581063000000000000</td>\n",
              "      <td>-1</td>\n",
              "      <td>#412S4: Cristiano Ronaldo spotted in Melbourne</td>\n",
              "      <td>news</td>\n",
              "      <td>-1</td>\n",
              "    </tr>\n",
              "    <tr>\n",
              "      <th>1</th>\n",
              "      <td>Reply</td>\n",
              "      <td>581070000000000000</td>\n",
              "      <td>581063000000000000</td>\n",
              "      <td>RT @John Is it true?</td>\n",
              "      <td>news</td>\n",
              "      <td>query</td>\n",
              "    </tr>\n",
              "    <tr>\n",
              "      <th>2</th>\n",
              "      <td>Reply</td>\n",
              "      <td>581063000000000000</td>\n",
              "      <td>581063000000000000</td>\n",
              "      <td>RT @John I don't think he has come to Melbourn...</td>\n",
              "      <td>news</td>\n",
              "      <td>deny</td>\n",
              "    </tr>\n",
              "    <tr>\n",
              "      <th>3</th>\n",
              "      <td>Reply</td>\n",
              "      <td>581063000000000000</td>\n",
              "      <td>581063000000000000</td>\n",
              "      <td>RT @John #cristiano #spotted #melbourne I am s...</td>\n",
              "      <td>news</td>\n",
              "      <td>comment</td>\n",
              "    </tr>\n",
              "    <tr>\n",
              "      <th>4</th>\n",
              "      <td>Reply</td>\n",
              "      <td>581064000000000000</td>\n",
              "      <td>581063000000000000</td>\n",
              "      <td>RT @John I saw him too. I think that's true.</td>\n",
              "      <td>news</td>\n",
              "      <td>support</td>\n",
              "    </tr>\n",
              "  </tbody>\n",
              "</table>\n",
              "</div>"
            ],
            "text/plain": [
              "     Type              Msg_ID  ...  Topic    Class\n",
              "0  Source  581063000000000000  ...   news       -1\n",
              "1   Reply  581070000000000000  ...   news    query\n",
              "2   Reply  581063000000000000  ...   news     deny\n",
              "3   Reply  581063000000000000  ...   news  comment\n",
              "4   Reply  581064000000000000  ...   news  support\n",
              "\n",
              "[5 rows x 6 columns]"
            ]
          },
          "metadata": {},
          "execution_count": 616
        }
      ]
    },
    {
      "cell_type": "code",
      "metadata": {
        "colab": {
          "base_uri": "https://localhost:8080/"
        },
        "id": "Ntb2JpSniiAl",
        "outputId": "beac9ae7-a40e-4a54-faf7-06f275208ac5"
      },
      "source": [
        "independent_data.shape"
      ],
      "execution_count": null,
      "outputs": [
        {
          "output_type": "execute_result",
          "data": {
            "text/plain": [
              "(29, 6)"
            ]
          },
          "metadata": {},
          "execution_count": 617
        }
      ]
    },
    {
      "cell_type": "code",
      "metadata": {
        "id": "a5qRg8Atb2mM"
      },
      "source": [
        "independent_data['Text'] = independent_data['Text'].apply(lambda x: x.lower())\n",
        "independent_data['Text'] = independent_data['Text'].apply((lambda x: re.sub('(@[a-z]+)','',x)))\n",
        "independent_data['Text'] = independent_data['Text'].apply((lambda x: re.sub('(https?:\\/\\/.*?)(?:\\s|$)','',x)))\n",
        "independent_data['Text'] = independent_data['Text'].apply((lambda x: re.sub('[^a-zA-Z\\s]','',x)))\n",
        "independent_data['Text'] = independent_data['Text'].apply(lambda words: ' '.join(word.lower() for word in words.split() if word not in stop))\n",
        "independent_data['Text'] = independent_data['Text'].apply(lambda words: ' '.join(word.lower() for word in words.split() if len(word) > 1))"
      ],
      "execution_count": null,
      "outputs": []
    },
    {
      "cell_type": "code",
      "metadata": {
        "id": "YJy9hwY6d1Rz"
      },
      "source": [
        "# adding source to a list and map it to its replies\n",
        "source = []\n",
        "text_combined = []\n",
        "for index, row in independent_data.iterrows():\n",
        "  if (row['Type'] == \"Source\"):\n",
        "    sId = row['Msg_ID']\n",
        "    source_text = row['Text']\n",
        "  if (sId == row['Source_Msg_ID']):\n",
        "    source.append(source_text)"
      ],
      "execution_count": null,
      "outputs": []
    },
    {
      "cell_type": "code",
      "metadata": {
        "id": "sGtgQ5CXd5bG"
      },
      "source": [
        "independent_data = independent_data.drop(independent_data.loc[independent_data['Type']=='Source'].index)\n",
        "independent_data = independent_data.reset_index(drop=True)\n",
        "independent_data['Source'] = source"
      ],
      "execution_count": null,
      "outputs": []
    },
    {
      "cell_type": "code",
      "metadata": {
        "id": "hymh7-oKd-CD"
      },
      "source": [
        "encoder = LabelEncoder()\n",
        "independent_data.insert(2,'Class_Encoded',encoder.fit_transform(independent_data['Class']))"
      ],
      "execution_count": null,
      "outputs": []
    },
    {
      "cell_type": "code",
      "metadata": {
        "id": "Ivzox8FLb2sG"
      },
      "source": [
        "tokenizer.fit_on_texts(independent_data['Source'].values)\n",
        "X3 = tokenizer.texts_to_sequences(independent_data['Source'].values)\n",
        "tokenizer.fit_on_texts(independent_data['Text'].values)\n",
        "X4 = tokenizer.texts_to_sequences(independent_data['Text'].values)"
      ],
      "execution_count": null,
      "outputs": []
    },
    {
      "cell_type": "code",
      "metadata": {
        "colab": {
          "base_uri": "https://localhost:8080/"
        },
        "id": "x3Fq6SH2eNx-",
        "outputId": "d1e9ac6e-9fc5-4f61-d205-ecc14529444c"
      },
      "source": [
        "word_index = tokenizer.word_index\n",
        "print(\"unique tokens - \"+str(len(word_index)))\n",
        "vocab_size = len(tokenizer.word_index) + 1\n",
        "print('vocab_size - '+str(vocab_size))"
      ],
      "execution_count": null,
      "outputs": [
        {
          "output_type": "stream",
          "name": "stdout",
          "text": [
            "unique tokens - 11052\n",
            "vocab_size - 11053\n"
          ]
        }
      ]
    },
    {
      "cell_type": "code",
      "metadata": {
        "id": "JAXf0c4DeH81"
      },
      "source": [
        "X3 = pad_sequences(X3,maxlen= 55)\n",
        "X4 = pad_sequences(X4,maxlen= 55)"
      ],
      "execution_count": null,
      "outputs": []
    },
    {
      "cell_type": "code",
      "metadata": {
        "id": "Pp0QguqBf-aW"
      },
      "source": [
        "Y = independent_data['Class_Encoded']"
      ],
      "execution_count": null,
      "outputs": []
    },
    {
      "cell_type": "code",
      "metadata": {
        "id": "7NMfUYUtfu6-"
      },
      "source": [
        "Y_pred_IT = model_BTL.predict([X3,X4])\n",
        "Y_pred_IT = np.argmax(Y_pred_IT, axis = 1)"
      ],
      "execution_count": null,
      "outputs": []
    },
    {
      "cell_type": "code",
      "metadata": {
        "colab": {
          "base_uri": "https://localhost:8080/"
        },
        "id": "ypyUO3umfu6-",
        "outputId": "4d26e36b-7c8b-4eae-c5b6-24518f3b347b"
      },
      "source": [
        "print(classification_report(Y,Y_pred_IT))"
      ],
      "execution_count": null,
      "outputs": [
        {
          "output_type": "stream",
          "name": "stdout",
          "text": [
            "              precision    recall  f1-score   support\n",
            "\n",
            "           0       0.38      0.62      0.48         8\n",
            "           1       1.00      0.20      0.33         5\n",
            "           2       0.00      0.00      0.00         6\n",
            "           3       0.40      0.40      0.40         5\n",
            "\n",
            "    accuracy                           0.33        24\n",
            "   macro avg       0.45      0.31      0.30        24\n",
            "weighted avg       0.42      0.33      0.31        24\n",
            "\n"
          ]
        }
      ]
    },
    {
      "cell_type": "code",
      "metadata": {
        "colab": {
          "base_uri": "https://localhost:8080/",
          "height": 404
        },
        "id": "gPasvXqOfu6_",
        "outputId": "e2b28fc6-858c-4585-acb6-95d6dc249a2a"
      },
      "source": [
        "plot_cm(Y,Y_pred_IT)"
      ],
      "execution_count": null,
      "outputs": [
        {
          "output_type": "display_data",
          "data": {
            "image/png": "[encoded data removed]",
            "text/plain": [
              "<Figure size 576x432 with 2 Axes>"
            ]
          },
          "metadata": {
            "needs_background": "light"
          }
        }
      ]
    },
    {
      "cell_type": "markdown",
      "metadata": {
        "id": "NMyS4lEqJXTf"
      },
      "source": [
        "# Ultimate Judgement\n",
        "- The best model was obtained by implementing Bidirectional LSTM which shows that there might be few sentences that have future dependencies.\n",
        "- The stacking with LSTM layer helped in fetching more efficient features or words for stance classification.\n",
        "- The main limitation with this dataset was that there was huge imbalance as the ‘comment’ class was very dominant and the number of observations for all the other classes were quite less i.e., less than 500\n",
        "- Since deep learning based approach requires a lot of data to train, if we can get more data for deny, support, and query classes, the model would be able to perform much better.\n",
        "- The drawback with all LSTM models is that it can not capture the context of the sentences as they process one token at a time.\n",
        "- Transformer based models such as BERT can be used to capture the context of the sentence and improve the model's performance."
      ]
    }
  ]
}